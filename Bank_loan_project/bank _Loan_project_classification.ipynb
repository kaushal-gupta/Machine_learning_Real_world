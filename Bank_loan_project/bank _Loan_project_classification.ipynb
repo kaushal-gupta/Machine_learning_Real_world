{
 "cells": [
  {
   "cell_type": "markdown",
   "metadata": {},
   "source": [
    "# Import useful libraries"
   ]
  },
  {
   "cell_type": "code",
   "execution_count": 1,
   "metadata": {},
   "outputs": [],
   "source": [
    "import numpy as np\n",
    "import pandas as pd\n",
    "import matplotlib.pyplot as plt\n",
    "import seaborn as sb"
   ]
  },
  {
   "cell_type": "code",
   "execution_count": 2,
   "metadata": {},
   "outputs": [],
   "source": [
    "dataset=pd.read_table(\"XYZCorp_LendingData.txt\",parse_dates=['issue_d'],low_memory = False)"
   ]
  },
  {
   "cell_type": "markdown",
   "metadata": {},
   "source": [
    "Lets have an overview of the dataset"
   ]
  },
  {
   "cell_type": "code",
   "execution_count": 4,
   "metadata": {},
   "outputs": [
    {
     "data": {
      "text/plain": [
       "(855969, 73)"
      ]
     },
     "execution_count": 4,
     "metadata": {},
     "output_type": "execute_result"
    }
   ],
   "source": [
    "dataset.shape"
   ]
  },
  {
   "cell_type": "code",
   "execution_count": 6,
   "metadata": {},
   "outputs": [
    {
     "data": {
      "text/html": [
       "<div>\n",
       "<style scoped>\n",
       "    .dataframe tbody tr th:only-of-type {\n",
       "        vertical-align: middle;\n",
       "    }\n",
       "\n",
       "    .dataframe tbody tr th {\n",
       "        vertical-align: top;\n",
       "    }\n",
       "\n",
       "    .dataframe thead th {\n",
       "        text-align: right;\n",
       "    }\n",
       "</style>\n",
       "<table border=\"1\" class=\"dataframe\">\n",
       "  <thead>\n",
       "    <tr style=\"text-align: right;\">\n",
       "      <th></th>\n",
       "      <th>id</th>\n",
       "      <th>member_id</th>\n",
       "      <th>loan_amnt</th>\n",
       "      <th>funded_amnt</th>\n",
       "      <th>funded_amnt_inv</th>\n",
       "      <th>term</th>\n",
       "      <th>int_rate</th>\n",
       "      <th>installment</th>\n",
       "      <th>grade</th>\n",
       "      <th>sub_grade</th>\n",
       "      <th>...</th>\n",
       "      <th>il_util</th>\n",
       "      <th>open_rv_12m</th>\n",
       "      <th>open_rv_24m</th>\n",
       "      <th>max_bal_bc</th>\n",
       "      <th>all_util</th>\n",
       "      <th>total_rev_hi_lim</th>\n",
       "      <th>inq_fi</th>\n",
       "      <th>total_cu_tl</th>\n",
       "      <th>inq_last_12m</th>\n",
       "      <th>default_ind</th>\n",
       "    </tr>\n",
       "  </thead>\n",
       "  <tbody>\n",
       "    <tr>\n",
       "      <th>0</th>\n",
       "      <td>1077501</td>\n",
       "      <td>1296599</td>\n",
       "      <td>5000.0</td>\n",
       "      <td>5000.0</td>\n",
       "      <td>4975.0</td>\n",
       "      <td>36 months</td>\n",
       "      <td>10.65</td>\n",
       "      <td>162.87</td>\n",
       "      <td>B</td>\n",
       "      <td>B2</td>\n",
       "      <td>...</td>\n",
       "      <td>NaN</td>\n",
       "      <td>NaN</td>\n",
       "      <td>NaN</td>\n",
       "      <td>NaN</td>\n",
       "      <td>NaN</td>\n",
       "      <td>NaN</td>\n",
       "      <td>NaN</td>\n",
       "      <td>NaN</td>\n",
       "      <td>NaN</td>\n",
       "      <td>0</td>\n",
       "    </tr>\n",
       "    <tr>\n",
       "      <th>1</th>\n",
       "      <td>1077430</td>\n",
       "      <td>1314167</td>\n",
       "      <td>2500.0</td>\n",
       "      <td>2500.0</td>\n",
       "      <td>2500.0</td>\n",
       "      <td>60 months</td>\n",
       "      <td>15.27</td>\n",
       "      <td>59.83</td>\n",
       "      <td>C</td>\n",
       "      <td>C4</td>\n",
       "      <td>...</td>\n",
       "      <td>NaN</td>\n",
       "      <td>NaN</td>\n",
       "      <td>NaN</td>\n",
       "      <td>NaN</td>\n",
       "      <td>NaN</td>\n",
       "      <td>NaN</td>\n",
       "      <td>NaN</td>\n",
       "      <td>NaN</td>\n",
       "      <td>NaN</td>\n",
       "      <td>1</td>\n",
       "    </tr>\n",
       "    <tr>\n",
       "      <th>2</th>\n",
       "      <td>1077175</td>\n",
       "      <td>1313524</td>\n",
       "      <td>2400.0</td>\n",
       "      <td>2400.0</td>\n",
       "      <td>2400.0</td>\n",
       "      <td>36 months</td>\n",
       "      <td>15.96</td>\n",
       "      <td>84.33</td>\n",
       "      <td>C</td>\n",
       "      <td>C5</td>\n",
       "      <td>...</td>\n",
       "      <td>NaN</td>\n",
       "      <td>NaN</td>\n",
       "      <td>NaN</td>\n",
       "      <td>NaN</td>\n",
       "      <td>NaN</td>\n",
       "      <td>NaN</td>\n",
       "      <td>NaN</td>\n",
       "      <td>NaN</td>\n",
       "      <td>NaN</td>\n",
       "      <td>0</td>\n",
       "    </tr>\n",
       "    <tr>\n",
       "      <th>3</th>\n",
       "      <td>1076863</td>\n",
       "      <td>1277178</td>\n",
       "      <td>10000.0</td>\n",
       "      <td>10000.0</td>\n",
       "      <td>10000.0</td>\n",
       "      <td>36 months</td>\n",
       "      <td>13.49</td>\n",
       "      <td>339.31</td>\n",
       "      <td>C</td>\n",
       "      <td>C1</td>\n",
       "      <td>...</td>\n",
       "      <td>NaN</td>\n",
       "      <td>NaN</td>\n",
       "      <td>NaN</td>\n",
       "      <td>NaN</td>\n",
       "      <td>NaN</td>\n",
       "      <td>NaN</td>\n",
       "      <td>NaN</td>\n",
       "      <td>NaN</td>\n",
       "      <td>NaN</td>\n",
       "      <td>0</td>\n",
       "    </tr>\n",
       "    <tr>\n",
       "      <th>4</th>\n",
       "      <td>1075358</td>\n",
       "      <td>1311748</td>\n",
       "      <td>3000.0</td>\n",
       "      <td>3000.0</td>\n",
       "      <td>3000.0</td>\n",
       "      <td>60 months</td>\n",
       "      <td>12.69</td>\n",
       "      <td>67.79</td>\n",
       "      <td>B</td>\n",
       "      <td>B5</td>\n",
       "      <td>...</td>\n",
       "      <td>NaN</td>\n",
       "      <td>NaN</td>\n",
       "      <td>NaN</td>\n",
       "      <td>NaN</td>\n",
       "      <td>NaN</td>\n",
       "      <td>NaN</td>\n",
       "      <td>NaN</td>\n",
       "      <td>NaN</td>\n",
       "      <td>NaN</td>\n",
       "      <td>0</td>\n",
       "    </tr>\n",
       "    <tr>\n",
       "      <th>5</th>\n",
       "      <td>1075269</td>\n",
       "      <td>1311441</td>\n",
       "      <td>5000.0</td>\n",
       "      <td>5000.0</td>\n",
       "      <td>5000.0</td>\n",
       "      <td>36 months</td>\n",
       "      <td>7.90</td>\n",
       "      <td>156.46</td>\n",
       "      <td>A</td>\n",
       "      <td>A4</td>\n",
       "      <td>...</td>\n",
       "      <td>NaN</td>\n",
       "      <td>NaN</td>\n",
       "      <td>NaN</td>\n",
       "      <td>NaN</td>\n",
       "      <td>NaN</td>\n",
       "      <td>NaN</td>\n",
       "      <td>NaN</td>\n",
       "      <td>NaN</td>\n",
       "      <td>NaN</td>\n",
       "      <td>0</td>\n",
       "    </tr>\n",
       "    <tr>\n",
       "      <th>6</th>\n",
       "      <td>1069639</td>\n",
       "      <td>1304742</td>\n",
       "      <td>7000.0</td>\n",
       "      <td>7000.0</td>\n",
       "      <td>7000.0</td>\n",
       "      <td>60 months</td>\n",
       "      <td>15.96</td>\n",
       "      <td>170.08</td>\n",
       "      <td>C</td>\n",
       "      <td>C5</td>\n",
       "      <td>...</td>\n",
       "      <td>NaN</td>\n",
       "      <td>NaN</td>\n",
       "      <td>NaN</td>\n",
       "      <td>NaN</td>\n",
       "      <td>NaN</td>\n",
       "      <td>NaN</td>\n",
       "      <td>NaN</td>\n",
       "      <td>NaN</td>\n",
       "      <td>NaN</td>\n",
       "      <td>0</td>\n",
       "    </tr>\n",
       "    <tr>\n",
       "      <th>7</th>\n",
       "      <td>1072053</td>\n",
       "      <td>1288686</td>\n",
       "      <td>3000.0</td>\n",
       "      <td>3000.0</td>\n",
       "      <td>3000.0</td>\n",
       "      <td>36 months</td>\n",
       "      <td>18.64</td>\n",
       "      <td>109.43</td>\n",
       "      <td>E</td>\n",
       "      <td>E1</td>\n",
       "      <td>...</td>\n",
       "      <td>NaN</td>\n",
       "      <td>NaN</td>\n",
       "      <td>NaN</td>\n",
       "      <td>NaN</td>\n",
       "      <td>NaN</td>\n",
       "      <td>NaN</td>\n",
       "      <td>NaN</td>\n",
       "      <td>NaN</td>\n",
       "      <td>NaN</td>\n",
       "      <td>0</td>\n",
       "    </tr>\n",
       "    <tr>\n",
       "      <th>8</th>\n",
       "      <td>1071795</td>\n",
       "      <td>1306957</td>\n",
       "      <td>5600.0</td>\n",
       "      <td>5600.0</td>\n",
       "      <td>5600.0</td>\n",
       "      <td>60 months</td>\n",
       "      <td>21.28</td>\n",
       "      <td>152.39</td>\n",
       "      <td>F</td>\n",
       "      <td>F2</td>\n",
       "      <td>...</td>\n",
       "      <td>NaN</td>\n",
       "      <td>NaN</td>\n",
       "      <td>NaN</td>\n",
       "      <td>NaN</td>\n",
       "      <td>NaN</td>\n",
       "      <td>NaN</td>\n",
       "      <td>NaN</td>\n",
       "      <td>NaN</td>\n",
       "      <td>NaN</td>\n",
       "      <td>1</td>\n",
       "    </tr>\n",
       "    <tr>\n",
       "      <th>9</th>\n",
       "      <td>1071570</td>\n",
       "      <td>1306721</td>\n",
       "      <td>5375.0</td>\n",
       "      <td>5375.0</td>\n",
       "      <td>5350.0</td>\n",
       "      <td>60 months</td>\n",
       "      <td>12.69</td>\n",
       "      <td>121.45</td>\n",
       "      <td>B</td>\n",
       "      <td>B5</td>\n",
       "      <td>...</td>\n",
       "      <td>NaN</td>\n",
       "      <td>NaN</td>\n",
       "      <td>NaN</td>\n",
       "      <td>NaN</td>\n",
       "      <td>NaN</td>\n",
       "      <td>NaN</td>\n",
       "      <td>NaN</td>\n",
       "      <td>NaN</td>\n",
       "      <td>NaN</td>\n",
       "      <td>1</td>\n",
       "    </tr>\n",
       "  </tbody>\n",
       "</table>\n",
       "<p>10 rows × 73 columns</p>\n",
       "</div>"
      ],
      "text/plain": [
       "        id  member_id  loan_amnt  funded_amnt  funded_amnt_inv        term  \\\n",
       "0  1077501    1296599     5000.0       5000.0           4975.0   36 months   \n",
       "1  1077430    1314167     2500.0       2500.0           2500.0   60 months   \n",
       "2  1077175    1313524     2400.0       2400.0           2400.0   36 months   \n",
       "3  1076863    1277178    10000.0      10000.0          10000.0   36 months   \n",
       "4  1075358    1311748     3000.0       3000.0           3000.0   60 months   \n",
       "5  1075269    1311441     5000.0       5000.0           5000.0   36 months   \n",
       "6  1069639    1304742     7000.0       7000.0           7000.0   60 months   \n",
       "7  1072053    1288686     3000.0       3000.0           3000.0   36 months   \n",
       "8  1071795    1306957     5600.0       5600.0           5600.0   60 months   \n",
       "9  1071570    1306721     5375.0       5375.0           5350.0   60 months   \n",
       "\n",
       "   int_rate  installment grade sub_grade     ...     il_util open_rv_12m  \\\n",
       "0     10.65       162.87     B        B2     ...         NaN         NaN   \n",
       "1     15.27        59.83     C        C4     ...         NaN         NaN   \n",
       "2     15.96        84.33     C        C5     ...         NaN         NaN   \n",
       "3     13.49       339.31     C        C1     ...         NaN         NaN   \n",
       "4     12.69        67.79     B        B5     ...         NaN         NaN   \n",
       "5      7.90       156.46     A        A4     ...         NaN         NaN   \n",
       "6     15.96       170.08     C        C5     ...         NaN         NaN   \n",
       "7     18.64       109.43     E        E1     ...         NaN         NaN   \n",
       "8     21.28       152.39     F        F2     ...         NaN         NaN   \n",
       "9     12.69       121.45     B        B5     ...         NaN         NaN   \n",
       "\n",
       "  open_rv_24m  max_bal_bc all_util total_rev_hi_lim inq_fi total_cu_tl  \\\n",
       "0         NaN         NaN      NaN              NaN    NaN         NaN   \n",
       "1         NaN         NaN      NaN              NaN    NaN         NaN   \n",
       "2         NaN         NaN      NaN              NaN    NaN         NaN   \n",
       "3         NaN         NaN      NaN              NaN    NaN         NaN   \n",
       "4         NaN         NaN      NaN              NaN    NaN         NaN   \n",
       "5         NaN         NaN      NaN              NaN    NaN         NaN   \n",
       "6         NaN         NaN      NaN              NaN    NaN         NaN   \n",
       "7         NaN         NaN      NaN              NaN    NaN         NaN   \n",
       "8         NaN         NaN      NaN              NaN    NaN         NaN   \n",
       "9         NaN         NaN      NaN              NaN    NaN         NaN   \n",
       "\n",
       "  inq_last_12m default_ind  \n",
       "0          NaN           0  \n",
       "1          NaN           1  \n",
       "2          NaN           0  \n",
       "3          NaN           0  \n",
       "4          NaN           0  \n",
       "5          NaN           0  \n",
       "6          NaN           0  \n",
       "7          NaN           0  \n",
       "8          NaN           1  \n",
       "9          NaN           1  \n",
       "\n",
       "[10 rows x 73 columns]"
      ]
     },
     "execution_count": 6,
     "metadata": {},
     "output_type": "execute_result"
    }
   ],
   "source": [
    "dataset.head(10)"
   ]
  },
  {
   "cell_type": "code",
   "execution_count": 8,
   "metadata": {},
   "outputs": [
    {
     "data": {
      "text/plain": [
       "Index(['id', 'member_id', 'loan_amnt', 'funded_amnt', 'funded_amnt_inv',\n",
       "       'term', 'int_rate', 'installment', 'grade', 'sub_grade', 'emp_title',\n",
       "       'emp_length', 'home_ownership', 'annual_inc', 'verification_status',\n",
       "       'issue_d', 'pymnt_plan', 'desc', 'purpose', 'title', 'zip_code',\n",
       "       'addr_state', 'dti', 'delinq_2yrs', 'earliest_cr_line',\n",
       "       'inq_last_6mths', 'mths_since_last_delinq', 'mths_since_last_record',\n",
       "       'open_acc', 'pub_rec', 'revol_bal', 'revol_util', 'total_acc',\n",
       "       'initial_list_status', 'out_prncp', 'out_prncp_inv', 'total_pymnt',\n",
       "       'total_pymnt_inv', 'total_rec_prncp', 'total_rec_int',\n",
       "       'total_rec_late_fee', 'recoveries', 'collection_recovery_fee',\n",
       "       'last_pymnt_d', 'last_pymnt_amnt', 'next_pymnt_d', 'last_credit_pull_d',\n",
       "       'collections_12_mths_ex_med', 'mths_since_last_major_derog',\n",
       "       'policy_code', 'application_type', 'annual_inc_joint', 'dti_joint',\n",
       "       'verification_status_joint', 'acc_now_delinq', 'tot_coll_amt',\n",
       "       'tot_cur_bal', 'open_acc_6m', 'open_il_6m', 'open_il_12m',\n",
       "       'open_il_24m', 'mths_since_rcnt_il', 'total_bal_il', 'il_util',\n",
       "       'open_rv_12m', 'open_rv_24m', 'max_bal_bc', 'all_util',\n",
       "       'total_rev_hi_lim', 'inq_fi', 'total_cu_tl', 'inq_last_12m',\n",
       "       'default_ind'],\n",
       "      dtype='object')"
      ]
     },
     "execution_count": 8,
     "metadata": {},
     "output_type": "execute_result"
    }
   ],
   "source": [
    "dataset.columns"
   ]
  },
  {
   "cell_type": "code",
   "execution_count": 54,
   "metadata": {},
   "outputs": [
    {
     "data": {
      "text/html": [
       "<div>\n",
       "<style scoped>\n",
       "    .dataframe tbody tr th:only-of-type {\n",
       "        vertical-align: middle;\n",
       "    }\n",
       "\n",
       "    .dataframe tbody tr th {\n",
       "        vertical-align: top;\n",
       "    }\n",
       "\n",
       "    .dataframe thead th {\n",
       "        text-align: right;\n",
       "    }\n",
       "</style>\n",
       "<table border=\"1\" class=\"dataframe\">\n",
       "  <thead>\n",
       "    <tr style=\"text-align: right;\">\n",
       "      <th></th>\n",
       "      <th>id</th>\n",
       "      <th>member_id</th>\n",
       "      <th>loan_amnt</th>\n",
       "      <th>funded_amnt</th>\n",
       "      <th>funded_amnt_inv</th>\n",
       "      <th>int_rate</th>\n",
       "      <th>installment</th>\n",
       "      <th>annual_inc</th>\n",
       "      <th>dti</th>\n",
       "      <th>delinq_2yrs</th>\n",
       "      <th>...</th>\n",
       "      <th>il_util</th>\n",
       "      <th>open_rv_12m</th>\n",
       "      <th>open_rv_24m</th>\n",
       "      <th>max_bal_bc</th>\n",
       "      <th>all_util</th>\n",
       "      <th>total_rev_hi_lim</th>\n",
       "      <th>inq_fi</th>\n",
       "      <th>total_cu_tl</th>\n",
       "      <th>inq_last_12m</th>\n",
       "      <th>default_ind</th>\n",
       "    </tr>\n",
       "  </thead>\n",
       "  <tbody>\n",
       "    <tr>\n",
       "      <th>count</th>\n",
       "      <td>8.559690e+05</td>\n",
       "      <td>8.559690e+05</td>\n",
       "      <td>855969.000000</td>\n",
       "      <td>855969.000000</td>\n",
       "      <td>855969.000000</td>\n",
       "      <td>855969.000000</td>\n",
       "      <td>855969.000000</td>\n",
       "      <td>8.559690e+05</td>\n",
       "      <td>855969.000000</td>\n",
       "      <td>855969.000000</td>\n",
       "      <td>...</td>\n",
       "      <td>11609.000000</td>\n",
       "      <td>13288.000000</td>\n",
       "      <td>13288.000000</td>\n",
       "      <td>13288.000000</td>\n",
       "      <td>13288.000000</td>\n",
       "      <td>7.886560e+05</td>\n",
       "      <td>13288.000000</td>\n",
       "      <td>13288.000000</td>\n",
       "      <td>13288.000000</td>\n",
       "      <td>855969.000000</td>\n",
       "    </tr>\n",
       "    <tr>\n",
       "      <th>mean</th>\n",
       "      <td>3.224073e+07</td>\n",
       "      <td>3.476269e+07</td>\n",
       "      <td>14745.571335</td>\n",
       "      <td>14732.378305</td>\n",
       "      <td>14700.061226</td>\n",
       "      <td>13.192320</td>\n",
       "      <td>436.238072</td>\n",
       "      <td>7.507119e+04</td>\n",
       "      <td>18.122165</td>\n",
       "      <td>0.311621</td>\n",
       "      <td>...</td>\n",
       "      <td>71.486993</td>\n",
       "      <td>1.354305</td>\n",
       "      <td>2.945515</td>\n",
       "      <td>5840.443332</td>\n",
       "      <td>61.024526</td>\n",
       "      <td>3.216357e+04</td>\n",
       "      <td>0.947772</td>\n",
       "      <td>1.524232</td>\n",
       "      <td>1.841963</td>\n",
       "      <td>0.054286</td>\n",
       "    </tr>\n",
       "    <tr>\n",
       "      <th>std</th>\n",
       "      <td>2.271969e+07</td>\n",
       "      <td>2.399418e+07</td>\n",
       "      <td>8425.340005</td>\n",
       "      <td>8419.471653</td>\n",
       "      <td>8425.805478</td>\n",
       "      <td>4.368365</td>\n",
       "      <td>243.726876</td>\n",
       "      <td>6.426447e+04</td>\n",
       "      <td>17.423629</td>\n",
       "      <td>0.857189</td>\n",
       "      <td>...</td>\n",
       "      <td>23.015293</td>\n",
       "      <td>1.483710</td>\n",
       "      <td>2.595313</td>\n",
       "      <td>5108.500262</td>\n",
       "      <td>20.018117</td>\n",
       "      <td>3.769964e+04</td>\n",
       "      <td>1.441667</td>\n",
       "      <td>2.697601</td>\n",
       "      <td>2.975049</td>\n",
       "      <td>0.226581</td>\n",
       "    </tr>\n",
       "    <tr>\n",
       "      <th>min</th>\n",
       "      <td>5.473400e+04</td>\n",
       "      <td>7.069900e+04</td>\n",
       "      <td>500.000000</td>\n",
       "      <td>500.000000</td>\n",
       "      <td>0.000000</td>\n",
       "      <td>5.320000</td>\n",
       "      <td>15.690000</td>\n",
       "      <td>0.000000e+00</td>\n",
       "      <td>0.000000</td>\n",
       "      <td>0.000000</td>\n",
       "      <td>...</td>\n",
       "      <td>0.000000</td>\n",
       "      <td>0.000000</td>\n",
       "      <td>0.000000</td>\n",
       "      <td>0.000000</td>\n",
       "      <td>0.000000</td>\n",
       "      <td>0.000000e+00</td>\n",
       "      <td>0.000000</td>\n",
       "      <td>0.000000</td>\n",
       "      <td>-4.000000</td>\n",
       "      <td>0.000000</td>\n",
       "    </tr>\n",
       "    <tr>\n",
       "      <th>25%</th>\n",
       "      <td>9.067986e+06</td>\n",
       "      <td>1.079273e+07</td>\n",
       "      <td>8000.000000</td>\n",
       "      <td>8000.000000</td>\n",
       "      <td>8000.000000</td>\n",
       "      <td>9.990000</td>\n",
       "      <td>260.550000</td>\n",
       "      <td>4.500000e+04</td>\n",
       "      <td>11.880000</td>\n",
       "      <td>0.000000</td>\n",
       "      <td>...</td>\n",
       "      <td>58.500000</td>\n",
       "      <td>0.000000</td>\n",
       "      <td>1.000000</td>\n",
       "      <td>2405.000000</td>\n",
       "      <td>47.900000</td>\n",
       "      <td>1.400000e+04</td>\n",
       "      <td>0.000000</td>\n",
       "      <td>0.000000</td>\n",
       "      <td>0.000000</td>\n",
       "      <td>0.000000</td>\n",
       "    </tr>\n",
       "    <tr>\n",
       "      <th>50%</th>\n",
       "      <td>3.431355e+07</td>\n",
       "      <td>3.697532e+07</td>\n",
       "      <td>13000.000000</td>\n",
       "      <td>13000.000000</td>\n",
       "      <td>13000.000000</td>\n",
       "      <td>12.990000</td>\n",
       "      <td>382.550000</td>\n",
       "      <td>6.500000e+04</td>\n",
       "      <td>17.610000</td>\n",
       "      <td>0.000000</td>\n",
       "      <td>...</td>\n",
       "      <td>75.000000</td>\n",
       "      <td>1.000000</td>\n",
       "      <td>2.000000</td>\n",
       "      <td>4485.500000</td>\n",
       "      <td>62.100000</td>\n",
       "      <td>2.380000e+04</td>\n",
       "      <td>0.000000</td>\n",
       "      <td>0.000000</td>\n",
       "      <td>2.000000</td>\n",
       "      <td>0.000000</td>\n",
       "    </tr>\n",
       "    <tr>\n",
       "      <th>75%</th>\n",
       "      <td>5.446311e+07</td>\n",
       "      <td>5.803559e+07</td>\n",
       "      <td>20000.000000</td>\n",
       "      <td>20000.000000</td>\n",
       "      <td>20000.000000</td>\n",
       "      <td>15.990000</td>\n",
       "      <td>571.560000</td>\n",
       "      <td>9.000000e+04</td>\n",
       "      <td>23.900000</td>\n",
       "      <td>0.000000</td>\n",
       "      <td>...</td>\n",
       "      <td>87.500000</td>\n",
       "      <td>2.000000</td>\n",
       "      <td>4.000000</td>\n",
       "      <td>7701.250000</td>\n",
       "      <td>75.300000</td>\n",
       "      <td>3.990000e+04</td>\n",
       "      <td>1.000000</td>\n",
       "      <td>2.000000</td>\n",
       "      <td>3.000000</td>\n",
       "      <td>0.000000</td>\n",
       "    </tr>\n",
       "    <tr>\n",
       "      <th>max</th>\n",
       "      <td>6.861687e+07</td>\n",
       "      <td>7.351969e+07</td>\n",
       "      <td>35000.000000</td>\n",
       "      <td>35000.000000</td>\n",
       "      <td>35000.000000</td>\n",
       "      <td>28.990000</td>\n",
       "      <td>1445.460000</td>\n",
       "      <td>9.500000e+06</td>\n",
       "      <td>9999.000000</td>\n",
       "      <td>39.000000</td>\n",
       "      <td>...</td>\n",
       "      <td>223.300000</td>\n",
       "      <td>22.000000</td>\n",
       "      <td>43.000000</td>\n",
       "      <td>83047.000000</td>\n",
       "      <td>151.400000</td>\n",
       "      <td>9.999999e+06</td>\n",
       "      <td>15.000000</td>\n",
       "      <td>33.000000</td>\n",
       "      <td>32.000000</td>\n",
       "      <td>1.000000</td>\n",
       "    </tr>\n",
       "  </tbody>\n",
       "</table>\n",
       "<p>8 rows × 52 columns</p>\n",
       "</div>"
      ],
      "text/plain": [
       "                 id     member_id      loan_amnt    funded_amnt  \\\n",
       "count  8.559690e+05  8.559690e+05  855969.000000  855969.000000   \n",
       "mean   3.224073e+07  3.476269e+07   14745.571335   14732.378305   \n",
       "std    2.271969e+07  2.399418e+07    8425.340005    8419.471653   \n",
       "min    5.473400e+04  7.069900e+04     500.000000     500.000000   \n",
       "25%    9.067986e+06  1.079273e+07    8000.000000    8000.000000   \n",
       "50%    3.431355e+07  3.697532e+07   13000.000000   13000.000000   \n",
       "75%    5.446311e+07  5.803559e+07   20000.000000   20000.000000   \n",
       "max    6.861687e+07  7.351969e+07   35000.000000   35000.000000   \n",
       "\n",
       "       funded_amnt_inv       int_rate    installment    annual_inc  \\\n",
       "count    855969.000000  855969.000000  855969.000000  8.559690e+05   \n",
       "mean      14700.061226      13.192320     436.238072  7.507119e+04   \n",
       "std        8425.805478       4.368365     243.726876  6.426447e+04   \n",
       "min           0.000000       5.320000      15.690000  0.000000e+00   \n",
       "25%        8000.000000       9.990000     260.550000  4.500000e+04   \n",
       "50%       13000.000000      12.990000     382.550000  6.500000e+04   \n",
       "75%       20000.000000      15.990000     571.560000  9.000000e+04   \n",
       "max       35000.000000      28.990000    1445.460000  9.500000e+06   \n",
       "\n",
       "                 dti    delinq_2yrs  ...       il_util   open_rv_12m  \\\n",
       "count  855969.000000  855969.000000  ...  11609.000000  13288.000000   \n",
       "mean       18.122165       0.311621  ...     71.486993      1.354305   \n",
       "std        17.423629       0.857189  ...     23.015293      1.483710   \n",
       "min         0.000000       0.000000  ...      0.000000      0.000000   \n",
       "25%        11.880000       0.000000  ...     58.500000      0.000000   \n",
       "50%        17.610000       0.000000  ...     75.000000      1.000000   \n",
       "75%        23.900000       0.000000  ...     87.500000      2.000000   \n",
       "max      9999.000000      39.000000  ...    223.300000     22.000000   \n",
       "\n",
       "        open_rv_24m    max_bal_bc      all_util  total_rev_hi_lim  \\\n",
       "count  13288.000000  13288.000000  13288.000000      7.886560e+05   \n",
       "mean       2.945515   5840.443332     61.024526      3.216357e+04   \n",
       "std        2.595313   5108.500262     20.018117      3.769964e+04   \n",
       "min        0.000000      0.000000      0.000000      0.000000e+00   \n",
       "25%        1.000000   2405.000000     47.900000      1.400000e+04   \n",
       "50%        2.000000   4485.500000     62.100000      2.380000e+04   \n",
       "75%        4.000000   7701.250000     75.300000      3.990000e+04   \n",
       "max       43.000000  83047.000000    151.400000      9.999999e+06   \n",
       "\n",
       "             inq_fi   total_cu_tl  inq_last_12m    default_ind  \n",
       "count  13288.000000  13288.000000  13288.000000  855969.000000  \n",
       "mean       0.947772      1.524232      1.841963       0.054286  \n",
       "std        1.441667      2.697601      2.975049       0.226581  \n",
       "min        0.000000      0.000000     -4.000000       0.000000  \n",
       "25%        0.000000      0.000000      0.000000       0.000000  \n",
       "50%        0.000000      0.000000      2.000000       0.000000  \n",
       "75%        1.000000      2.000000      3.000000       0.000000  \n",
       "max       15.000000     33.000000     32.000000       1.000000  \n",
       "\n",
       "[8 rows x 52 columns]"
      ]
     },
     "execution_count": 54,
     "metadata": {},
     "output_type": "execute_result"
    }
   ],
   "source": [
    "dataset.describe()"
   ]
  },
  {
   "cell_type": "markdown",
   "metadata": {},
   "source": [
    "We see that we have a dataset with 73 features and 855969 observations, with each observation representing a borrower's information and whether he would be able to repay the loan on time, because banks lend money to only those customers who have a good credit history"
   ]
  },
  {
   "cell_type": "markdown",
   "metadata": {},
   "source": [
    "default_ind (Target variable)\n",
    "1: Person is a defaulter(have't repayed the money yet)\n",
    "0: Person is not a defaulter(returned the money on time)"
   ]
  },
  {
   "cell_type": "code",
   "execution_count": 9,
   "metadata": {},
   "outputs": [
    {
     "data": {
      "text/plain": [
       "<matplotlib.axes._subplots.AxesSubplot at 0x21000523cf8>"
      ]
     },
     "execution_count": 9,
     "metadata": {},
     "output_type": "execute_result"
    },
    {
     "data": {
      "image/png": "[encoded data removed]",
      "text/plain": [
       "<Figure size 432x288 with 1 Axes>"
      ]
     },
     "metadata": {
      "needs_background": "light"
     },
     "output_type": "display_data"
    }
   ],
   "source": [
    "sb.countplot(x='default_ind',data=dataset)"
   ]
  },
  {
   "cell_type": "markdown",
   "metadata": {},
   "source": [
    "1. 800000 out of 855969 borrowers are non-defaulters\n",
    "2. we see that out dataset have majority of non-defaulters, who paid their loan on time"
   ]
  },
  {
   "cell_type": "markdown",
   "metadata": {},
   "source": [
    "# Exploratory Data Analysis"
   ]
  },
  {
   "cell_type": "markdown",
   "metadata": {},
   "source": [
    "addr_state - The state provided by the borrower in the loan application"
   ]
  },
  {
   "cell_type": "code",
   "execution_count": 3,
   "metadata": {},
   "outputs": [
    {
     "data": {
      "text/plain": [
       "<matplotlib.axes._subplots.AxesSubplot at 0x223bdff8940>"
      ]
     },
     "execution_count": 3,
     "metadata": {},
     "output_type": "execute_result"
    },
    {
     "data": {
      "image/png": "[encoded data removed]",
      "text/plain": [
       "<Figure size 1008x504 with 1 Axes>"
      ]
     },
     "metadata": {
      "needs_background": "light"
     },
     "output_type": "display_data"
    }
   ],
   "source": [
    "plt.figure(figsize=(14,7))\n",
    "sb.countplot(x='addr_state',data=dataset.sort_values(by='addr_state'))"
   ]
  },
  {
   "cell_type": "markdown",
   "metadata": {},
   "source": [
    "We see that more than 120000 people were from CA, and around 60000 people were from NY and TX"
   ]
  },
  {
   "cell_type": "code",
   "execution_count": 21,
   "metadata": {},
   "outputs": [
    {
     "data": {
      "text/plain": [
       "<matplotlib.axes._subplots.AxesSubplot at 0xf748cd3470>"
      ]
     },
     "execution_count": 21,
     "metadata": {},
     "output_type": "execute_result"
    },
    {
     "data": {
      "image/png": "[encoded data removed]",
      "text/plain": [
       "<Figure size 1008x504 with 1 Axes>"
      ]
     },
     "metadata": {
      "needs_background": "light"
     },
     "output_type": "display_data"
    }
   ],
   "source": [
    "# The people who are defaulters on the basis of addr_state\n",
    "plt.figure(figsize=(14,7))\n",
    "sb.countplot(x = 'addr_state', data = dataset[(dataset['default_ind'] == 1)].sort_values(by='addr_state'))\n"
   ]
  },
  {
   "cell_type": "markdown",
   "metadata": {},
   "source": [
    "annual_inc - The self-reported annual income provided by the borrower during registration."
   ]
  },
  {
   "cell_type": "code",
   "execution_count": 22,
   "metadata": {},
   "outputs": [
    {
     "data": {
      "text/plain": [
       "73859.19081655961"
      ]
     },
     "execution_count": 22,
     "metadata": {},
     "output_type": "execute_result"
    }
   ],
   "source": [
    "dataset['annual_inc'].mean()"
   ]
  },
  {
   "cell_type": "code",
   "execution_count": 24,
   "metadata": {},
   "outputs": [
    {
     "data": {
      "text/plain": [
       "8706582.0"
      ]
     },
     "execution_count": 24,
     "metadata": {},
     "output_type": "execute_result"
    }
   ],
   "source": [
    "dataset['annual_inc'].max()"
   ]
  },
  {
   "cell_type": "code",
   "execution_count": 27,
   "metadata": {},
   "outputs": [
    {
     "data": {
      "text/plain": [
       "3000.0"
      ]
     },
     "execution_count": 27,
     "metadata": {},
     "output_type": "execute_result"
    }
   ],
   "source": [
    "dataset['annual_inc'].min()"
   ]
  },
  {
   "cell_type": "markdown",
   "metadata": {},
   "source": [
    "People with salary greater than average salary of the customers ---"
   ]
  },
  {
   "cell_type": "code",
   "execution_count": 5,
   "metadata": {},
   "outputs": [
    {
     "data": {
      "text/plain": [
       "<matplotlib.axes._subplots.AxesSubplot at 0x22380f89f60>"
      ]
     },
     "execution_count": 5,
     "metadata": {},
     "output_type": "execute_result"
    },
    {
     "data": {
      "image/png": "[encoded data removed]",
      "text/plain": [
       "<Figure size 432x288 with 1 Axes>"
      ]
     },
     "metadata": {
      "needs_background": "light"
     },
     "output_type": "display_data"
    }
   ],
   "source": [
    "sb.countplot(x='default_ind', data=dataset[(dataset.annual_inc>=73859)])"
   ]
  },
  {
   "cell_type": "markdown",
   "metadata": {},
   "source": [
    "There are very few people whose salary > 73859 and still not repayed the loan, majority of the people are non defaulters"
   ]
  },
  {
   "cell_type": "code",
   "execution_count": 7,
   "metadata": {},
   "outputs": [
    {
     "data": {
      "text/plain": [
       "67156     18000.0\n",
       "239712    19225.0\n",
       "704172    35000.0\n",
       "836373     8000.0\n",
       "Name: loan_amnt, dtype: float64"
      ]
     },
     "execution_count": 7,
     "metadata": {},
     "output_type": "execute_result"
    }
   ],
   "source": [
    "dataset.loc[(dataset.annual_inc>=900000) & (dataset.default_ind==1),'loan_amnt']"
   ]
  },
  {
   "cell_type": "code",
   "execution_count": 51,
   "metadata": {},
   "outputs": [
    {
     "data": {
      "text/plain": [
       "id                                  0\n",
       "member_id                           0\n",
       "loan_amnt                           0\n",
       "funded_amnt                         0\n",
       "funded_amnt_inv                     0\n",
       "term                                0\n",
       "int_rate                            0\n",
       "installment                         0\n",
       "grade                               0\n",
       "sub_grade                           0\n",
       "emp_title                       49443\n",
       "emp_length                      43061\n",
       "home_ownership                      0\n",
       "annual_inc                          0\n",
       "verification_status                 0\n",
       "issue_d                             0\n",
       "pymnt_plan                          0\n",
       "desc                           734157\n",
       "purpose                             0\n",
       "title                              33\n",
       "zip_code                            0\n",
       "addr_state                          0\n",
       "dti                                 0\n",
       "delinq_2yrs                         0\n",
       "earliest_cr_line                    0\n",
       "inq_last_6mths                      0\n",
       "mths_since_last_delinq         439812\n",
       "mths_since_last_record         724785\n",
       "open_acc                            0\n",
       "pub_rec                             0\n",
       "                                ...  \n",
       "last_pymnt_d                     8862\n",
       "last_pymnt_amnt                     0\n",
       "next_pymnt_d                   252971\n",
       "last_credit_pull_d                 50\n",
       "collections_12_mths_ex_med         56\n",
       "mths_since_last_major_derog    642830\n",
       "policy_code                         0\n",
       "application_type                    0\n",
       "annual_inc_joint               855527\n",
       "dti_joint                      855529\n",
       "verification_status_joint      855527\n",
       "acc_now_delinq                      0\n",
       "tot_coll_amt                    67313\n",
       "tot_cur_bal                     67313\n",
       "open_acc_6m                    842681\n",
       "open_il_6m                     842681\n",
       "open_il_12m                    842681\n",
       "open_il_24m                    842681\n",
       "mths_since_rcnt_il             843035\n",
       "total_bal_il                   842681\n",
       "il_util                        844360\n",
       "open_rv_12m                    842681\n",
       "open_rv_24m                    842681\n",
       "max_bal_bc                     842681\n",
       "all_util                       842681\n",
       "total_rev_hi_lim                67313\n",
       "inq_fi                         842681\n",
       "total_cu_tl                    842681\n",
       "inq_last_12m                   842681\n",
       "default_ind                         0\n",
       "Length: 73, dtype: int64"
      ]
     },
     "execution_count": 51,
     "metadata": {},
     "output_type": "execute_result"
    }
   ],
   "source": [
    "dataset.isnull().sum()"
   ]
  },
  {
   "cell_type": "code",
   "execution_count": 9,
   "metadata": {},
   "outputs": [
    {
     "data": {
      "text/plain": [
       "855527"
      ]
     },
     "execution_count": 9,
     "metadata": {},
     "output_type": "execute_result"
    }
   ],
   "source": [
    "dataset['annual_inc_joint'].isnull().sum()"
   ]
  },
  {
   "cell_type": "markdown",
   "metadata": {},
   "source": [
    "Lots of na values, lets leave it for now"
   ]
  },
  {
   "cell_type": "markdown",
   "metadata": {},
   "source": [
    "application_type - Indicates whether the loan is an individual application or a joint application with two co-borrowers"
   ]
  },
  {
   "cell_type": "code",
   "execution_count": 50,
   "metadata": {},
   "outputs": [
    {
     "data": {
      "text/plain": [
       "INDIVIDUAL    855527\n",
       "JOINT            442\n",
       "Name: application_type, dtype: int64"
      ]
     },
     "execution_count": 50,
     "metadata": {},
     "output_type": "execute_result"
    }
   ],
   "source": [
    "dataset['application_type'].value_counts()"
   ]
  },
  {
   "cell_type": "code",
   "execution_count": null,
   "metadata": {},
   "outputs": [],
   "source": [
    "#People who applied jointly are not defaulters"
   ]
  },
  {
   "cell_type": "code",
   "execution_count": 49,
   "metadata": {},
   "outputs": [
    {
     "data": {
      "text/plain": [
       "0.0000       832934\n",
       "2.0000           15\n",
       "4.5200           11\n",
       "1.8800           11\n",
       "2.5200           11\n",
       "1.8000           11\n",
       "1.2000           11\n",
       "1.6900           10\n",
       "1.5500           10\n",
       "2.6100           10\n",
       "3.3900           10\n",
       "3.2000           10\n",
       "3.0900           10\n",
       "2.8800           10\n",
       "1.0700           10\n",
       "1.9000            9\n",
       "1.6200            9\n",
       "3.7100            9\n",
       "0.9300            9\n",
       "2.0800            9\n",
       "2.0200            9\n",
       "2.4300            9\n",
       "3.9300            9\n",
       "1.6000            9\n",
       "0.8000            9\n",
       "2.3000            8\n",
       "18.0000           8\n",
       "2.0400            8\n",
       "3.8800            8\n",
       "4.9500            8\n",
       "              ...  \n",
       "527.4612          1\n",
       "4.8787            1\n",
       "657.2682          1\n",
       "8.9234            1\n",
       "27.1303           1\n",
       "851.2038          1\n",
       "6.6602            1\n",
       "10.4284           1\n",
       "90.7920           1\n",
       "211.3110          1\n",
       "592.1856          1\n",
       "552.7278          1\n",
       "6.7453            1\n",
       "4.0392            1\n",
       "121.4856          1\n",
       "378.0234          1\n",
       "300.9816          1\n",
       "6.7700            1\n",
       "12.0207           1\n",
       "870.1902          1\n",
       "1002.9960         1\n",
       "399.9528          1\n",
       "168.6024          1\n",
       "31.1896           1\n",
       "52.3170           1\n",
       "56.5524           1\n",
       "6.8989            1\n",
       "26.6852           1\n",
       "940.5000          1\n",
       "7.4124            1\n",
       "Name: collection_recovery_fee, Length: 20529, dtype: int64"
      ]
     },
     "execution_count": 49,
     "metadata": {},
     "output_type": "execute_result"
    }
   ],
   "source": [
    "dataset['collection_recovery_fee'].value_counts()"
   ]
  },
  {
   "cell_type": "code",
   "execution_count": 48,
   "metadata": {},
   "outputs": [
    {
     "data": {
      "text/plain": [
       "0.0     692685\n",
       "1.0     108733\n",
       "2.0      32076\n",
       "3.0      11410\n",
       "4.0       5077\n",
       "5.0       2583\n",
       "6.0       1399\n",
       "7.0        732\n",
       "8.0        438\n",
       "9.0        269\n",
       "10.0       179\n",
       "11.0       116\n",
       "12.0        87\n",
       "13.0        57\n",
       "14.0        44\n",
       "15.0        26\n",
       "16.0        17\n",
       "18.0        11\n",
       "17.0        10\n",
       "19.0         8\n",
       "22.0         3\n",
       "26.0         2\n",
       "30.0         1\n",
       "21.0         1\n",
       "20.0         1\n",
       "39.0         1\n",
       "27.0         1\n",
       "29.0         1\n",
       "24.0         1\n",
       "Name: delinq_2yrs, dtype: int64"
      ]
     },
     "execution_count": 48,
     "metadata": {},
     "output_type": "execute_result"
    }
   ],
   "source": [
    "dataset['delinq_2yrs'].value_counts()"
   ]
  },
  {
   "cell_type": "markdown",
   "metadata": {},
   "source": [
    "desc and delinq_2 yrs are not providing any useful information, leave it for now"
   ]
  },
  {
   "cell_type": "markdown",
   "metadata": {},
   "source": [
    "dti - A ratio calculated using the borrower’s total monthly debt payments on the total debt obligations, excluding mortgage and the requested loan, divided by the borrower’s self-reported monthly income.\n",
    "\n",
    "DTI = total of money debt payments(credict cards, lians mortgage etc)/gross monthly income\n",
    "(banks prefer less dti)"
   ]
  },
  {
   "cell_type": "code",
   "execution_count": 36,
   "metadata": {},
   "outputs": [
    {
     "data": {
      "text/plain": [
       "14.40    475\n",
       "19.20    454\n",
       "18.00    437\n",
       "16.80    428\n",
       "12.00    427\n",
       "20.40    425\n",
       "13.20    414\n",
       "15.60    400\n",
       "21.60    377\n",
       "10.80    360\n",
       "0.00     360\n",
       "16.20    357\n",
       "22.80    350\n",
       "24.00    342\n",
       "16.32    335\n",
       "17.04    334\n",
       "14.64    334\n",
       "9.60     331\n",
       "12.48    328\n",
       "15.12    326\n",
       "15.84    325\n",
       "13.92    323\n",
       "19.68    322\n",
       "18.72    322\n",
       "16.08    322\n",
       "18.60    321\n",
       "17.76    320\n",
       "18.48    320\n",
       "13.44    318\n",
       "12.72    317\n",
       "        ... \n",
       "39.85      8\n",
       "37.70      8\n",
       "38.66      8\n",
       "39.07      8\n",
       "37.61      8\n",
       "36.14      8\n",
       "0.23       8\n",
       "37.24      8\n",
       "39.47      7\n",
       "36.41      7\n",
       "36.85      7\n",
       "39.59      7\n",
       "38.09      7\n",
       "38.85      7\n",
       "37.99      7\n",
       "37.91      7\n",
       "39.82      6\n",
       "0.09       6\n",
       "0.06       6\n",
       "38.62      6\n",
       "39.16      6\n",
       "0.03       5\n",
       "0.04       5\n",
       "38.78      5\n",
       "0.19       5\n",
       "39.14      5\n",
       "0.05       4\n",
       "39.94      4\n",
       "39.19      3\n",
       "0.10       3\n",
       "Name: dti, Length: 4000, dtype: int64"
      ]
     },
     "execution_count": 36,
     "metadata": {},
     "output_type": "execute_result"
    }
   ],
   "source": [
    "dataset['dti'].value_counts()"
   ]
  },
  {
   "cell_type": "code",
   "execution_count": 84,
   "metadata": {},
   "outputs": [
    {
     "data": {
      "text/plain": [
       "454491    1092.52\n",
       "455963     137.40\n",
       "462577    9999.00\n",
       "466829     100.09\n",
       "498969     120.66\n",
       "508976    9999.00\n",
       "509784     380.53\n",
       "517482     672.52\n",
       "521134     125.25\n",
       "540528     104.00\n",
       "Name: dti, dtype: float64"
      ]
     },
     "execution_count": 84,
     "metadata": {},
     "output_type": "execute_result"
    }
   ],
   "source": [
    "data=dataset[(dataset.dti>=100)]\n",
    "data['dti']\n",
    "#There are outliers too that needed to be replaced by some central tendencies"
   ]
  },
  {
   "cell_type": "code",
   "execution_count": 85,
   "metadata": {},
   "outputs": [
    {
     "data": {
      "text/plain": [
       "dti    18.444234\n",
       "dtype: float64"
      ]
     },
     "execution_count": 85,
     "metadata": {},
     "output_type": "execute_result"
    }
   ],
   "source": [
    "data=dataset.loc[dataset.default_ind==1,['dti']]\n",
    "data.mean()"
   ]
  },
  {
   "cell_type": "markdown",
   "metadata": {},
   "source": [
    "dti_joint and member_id are not providing any relevant info, leave them for now"
   ]
  },
  {
   "cell_type": "code",
   "execution_count": 96,
   "metadata": {},
   "outputs": [
    {
     "data": {
      "text/plain": [
       "0         Jan-1985\n",
       "1         Apr-1999\n",
       "2         Nov-2001\n",
       "3         Feb-1996\n",
       "4         Jan-1996\n",
       "5         Nov-2004\n",
       "6         Jul-2005\n",
       "7         Jan-2007\n",
       "8         Apr-2004\n",
       "9         Sep-2004\n",
       "10        Jan-1998\n",
       "11        Oct-1989\n",
       "12        Apr-2004\n",
       "13        Jul-2003\n",
       "14        May-1991\n",
       "15        Sep-2007\n",
       "16        Oct-1998\n",
       "17        Aug-1993\n",
       "18        Oct-2003\n",
       "19        Jan-2001\n",
       "20        Nov-1997\n",
       "21        Feb-1983\n",
       "22        Jul-1985\n",
       "23        Apr-2003\n",
       "24        Jun-2001\n",
       "25        Feb-2002\n",
       "26        Oct-2003\n",
       "27        Oct-2003\n",
       "28        Aug-1984\n",
       "29        Nov-2006\n",
       "            ...   \n",
       "855939    Mar-1998\n",
       "855940    Aug-2002\n",
       "855941    Aug-1990\n",
       "855942    Dec-2006\n",
       "855943    Jan-1989\n",
       "855944    Jun-2001\n",
       "855945    Jun-1993\n",
       "855946    Dec-1994\n",
       "855947    Jul-2002\n",
       "855948    May-2003\n",
       "855949    May-2003\n",
       "855950    Aug-1983\n",
       "855951    Oct-1994\n",
       "855952    Sep-2003\n",
       "855953    Oct-2006\n",
       "855954    Nov-1975\n",
       "855955    Nov-2006\n",
       "855956    Feb-2011\n",
       "855957    Mar-2000\n",
       "855958    May-1994\n",
       "855959    Sep-2002\n",
       "855960    Aug-1994\n",
       "855961    Jun-2002\n",
       "855962    Jun-1995\n",
       "855963    Jul-1999\n",
       "855964    Sep-2004\n",
       "855965    Mar-1974\n",
       "855966    Sep-2003\n",
       "855967    Oct-2003\n",
       "855968    Dec-2001\n",
       "Name: earliest_cr_line, Length: 855969, dtype: object"
      ]
     },
     "execution_count": 96,
     "metadata": {},
     "output_type": "execute_result"
    }
   ],
   "source": [
    "dataset['earliest_cr_line']"
   ]
  },
  {
   "cell_type": "markdown",
   "metadata": {},
   "source": [
    "Employement length------\n",
    "frequency of people who applied for loan based on their emp length"
   ]
  },
  {
   "cell_type": "code",
   "execution_count": 35,
   "metadata": {},
   "outputs": [
    {
     "data": {
      "text/plain": [
       "<matplotlib.axes._subplots.AxesSubplot at 0xbfa50f9518>"
      ]
     },
     "execution_count": 35,
     "metadata": {},
     "output_type": "execute_result"
    },
    {
     "data": {
      "image/png": "[encoded data removed]",
      "text/plain": [
       "<Figure size 1008x504 with 1 Axes>"
      ]
     },
     "metadata": {
      "needs_background": "light"
     },
     "output_type": "display_data"
    }
   ],
   "source": [
    "plt.figure(figsize=(14,7))\n",
    "sb.countplot(x='emp_length',data=dataset,order=dataset['emp_length'].value_counts().index)\n"
   ]
  },
  {
   "cell_type": "markdown",
   "metadata": {},
   "source": [
    "Max people have 10+ years of Employment length"
   ]
  },
  {
   "cell_type": "code",
   "execution_count": 36,
   "metadata": {},
   "outputs": [
    {
     "data": {
      "text/plain": [
       "<matplotlib.axes._subplots.AxesSubplot at 0xbfa4d7e198>"
      ]
     },
     "execution_count": 36,
     "metadata": {},
     "output_type": "execute_result"
    },
    {
     "data": {
      "image/png": "[encoded data removed]",
      "text/plain": [
       "<Figure size 432x288 with 1 Axes>"
      ]
     },
     "metadata": {
      "needs_background": "light"
     },
     "output_type": "display_data"
    }
   ],
   "source": [
    "#Defulters and non-defaulters having 10+ years of employement length\n",
    "sb.countplot(x='default_ind',data=dataset[(dataset['emp_length']=='10+ years' )])"
   ]
  },
  {
   "cell_type": "markdown",
   "metadata": {},
   "source": [
    "Majority of people who have 10+ years of employment length are non defaulters"
   ]
  },
  {
   "cell_type": "code",
   "execution_count": 92,
   "metadata": {},
   "outputs": [
    {
     "data": {
      "image/png": "[encoded data removed]",
      "text/plain": [
       "<Figure size 1008x504 with 2 Axes>"
      ]
     },
     "metadata": {
      "needs_background": "light"
     },
     "output_type": "display_data"
    }
   ],
   "source": [
    "#Comparing no. of defaulters with employement length\n",
    "plt.figure(figsize=(14,7))\n",
    "plt.subplot(2,1,1)\n",
    "\n",
    "sb.countplot(x='emp_length',data=dataset,order=dataset['emp_length'].value_counts().index)\n",
    "plt.title(\"Employee Length\")\n",
    "plt.grid()\n",
    "\n",
    "plt.subplot(2,1,2)\n",
    "sb.countplot(x='emp_length',data=dataset[(dataset['default_ind']==1 )],order=dataset['emp_length'].value_counts().index)\n",
    "plt.title(\"Defaulters\")\n",
    "plt.grid()"
   ]
  },
  {
   "cell_type": "markdown",
   "metadata": {},
   "source": [
    "emp_title - The job title supplied by the Borrower when applying for the loan."
   ]
  },
  {
   "cell_type": "code",
   "execution_count": 37,
   "metadata": {},
   "outputs": [
    {
     "data": {
      "text/plain": [
       "0                                             NaN\n",
       "1                                           Ryder\n",
       "2                                             NaN\n",
       "3                             AIR RESOURCES BOARD\n",
       "4                        University Medical Group\n",
       "5                            Veolia Transportaton\n",
       "6                       Southern Star Photography\n",
       "7                                 MKC Accounting \n",
       "8                                             NaN\n",
       "9                                       Starbucks\n",
       "10                          Southwest Rural metro\n",
       "11                                           UCLA\n",
       "12            Va. Dept of Conservation/Recreation\n",
       "13                                         Target\n",
       "14                                          SFMTA\n",
       "15                       Internal revenue Service\n",
       "16                              Chin's Restaurant\n",
       "17                                       Duracell\n",
       "18                          Connection Inspection\n",
       "19                   Network Interpreting Service\n",
       "20               Archdiocese of Galveston Houston\n",
       "21                                 Osram Sylvania\n",
       "22                                      Value Air\n",
       "23                               Wells Fargo Bank\n",
       "24                                bmg-educational\n",
       "25                 Winfield Pathology Consultants\n",
       "26                                    nyc transit\n",
       "27                                      Frito Lay\n",
       "28        Shands Hospital at the University of Fl\n",
       "29                                 Oakridge homes\n",
       "                           ...                   \n",
       "855939                          Mission info Tech\n",
       "855940                             Business agent\n",
       "855941                                 supervisor\n",
       "855942                       Support Scientist II\n",
       "855943                           VP of Operations\n",
       "855944                                   Operator\n",
       "855945                                        NaN\n",
       "855946                    Assistant Maint Manager\n",
       "855947                           Field Supervisor\n",
       "855948                                      Owner\n",
       "855949                                        NaN\n",
       "855950                           Business Manager\n",
       "855951                                   Director\n",
       "855952                                   Sr. Tech\n",
       "855953                                  Bartender\n",
       "855954                        Coordinator of RSVP\n",
       "855955                        machining Cell Lead\n",
       "855956                                    Painter\n",
       "855957                              Area Director\n",
       "855958                                Team Leader\n",
       "855959                            Lead Custodian \n",
       "855960                                      Owner\n",
       "855961                                        NaN\n",
       "855962                       KYC Business Analyst\n",
       "855963                                    Manager\n",
       "855964                           Office Assistant\n",
       "855965                    Director of Maintenance\n",
       "855966                   Radiologist Technologist\n",
       "855967                                    Painter\n",
       "855968            Manager Hotel Operations Oasis \n",
       "Name: emp_title, Length: 855969, dtype: object"
      ]
     },
     "execution_count": 37,
     "metadata": {},
     "output_type": "execute_result"
    }
   ],
   "source": [
    "dataset['emp_title']  "
   ]
  },
  {
   "cell_type": "code",
   "execution_count": 39,
   "metadata": {},
   "outputs": [
    {
     "data": {
      "text/html": [
       "<div>\n",
       "<style scoped>\n",
       "    .dataframe tbody tr th:only-of-type {\n",
       "        vertical-align: middle;\n",
       "    }\n",
       "\n",
       "    .dataframe tbody tr th {\n",
       "        vertical-align: top;\n",
       "    }\n",
       "\n",
       "    .dataframe thead th {\n",
       "        text-align: right;\n",
       "    }\n",
       "</style>\n",
       "<table border=\"1\" class=\"dataframe\">\n",
       "  <thead>\n",
       "    <tr style=\"text-align: right;\">\n",
       "      <th></th>\n",
       "      <th>loan_amnt</th>\n",
       "      <th>funded_amnt</th>\n",
       "      <th>funded_amnt_inv</th>\n",
       "    </tr>\n",
       "  </thead>\n",
       "  <tbody>\n",
       "    <tr>\n",
       "      <th>count</th>\n",
       "      <td>855969.000000</td>\n",
       "      <td>855969.000000</td>\n",
       "      <td>855969.000000</td>\n",
       "    </tr>\n",
       "    <tr>\n",
       "      <th>mean</th>\n",
       "      <td>14745.571335</td>\n",
       "      <td>14732.378305</td>\n",
       "      <td>14700.061226</td>\n",
       "    </tr>\n",
       "    <tr>\n",
       "      <th>std</th>\n",
       "      <td>8425.340005</td>\n",
       "      <td>8419.471653</td>\n",
       "      <td>8425.805478</td>\n",
       "    </tr>\n",
       "    <tr>\n",
       "      <th>min</th>\n",
       "      <td>500.000000</td>\n",
       "      <td>500.000000</td>\n",
       "      <td>0.000000</td>\n",
       "    </tr>\n",
       "    <tr>\n",
       "      <th>25%</th>\n",
       "      <td>8000.000000</td>\n",
       "      <td>8000.000000</td>\n",
       "      <td>8000.000000</td>\n",
       "    </tr>\n",
       "    <tr>\n",
       "      <th>50%</th>\n",
       "      <td>13000.000000</td>\n",
       "      <td>13000.000000</td>\n",
       "      <td>13000.000000</td>\n",
       "    </tr>\n",
       "    <tr>\n",
       "      <th>75%</th>\n",
       "      <td>20000.000000</td>\n",
       "      <td>20000.000000</td>\n",
       "      <td>20000.000000</td>\n",
       "    </tr>\n",
       "    <tr>\n",
       "      <th>max</th>\n",
       "      <td>35000.000000</td>\n",
       "      <td>35000.000000</td>\n",
       "      <td>35000.000000</td>\n",
       "    </tr>\n",
       "  </tbody>\n",
       "</table>\n",
       "</div>"
      ],
      "text/plain": [
       "           loan_amnt    funded_amnt  funded_amnt_inv\n",
       "count  855969.000000  855969.000000    855969.000000\n",
       "mean    14745.571335   14732.378305     14700.061226\n",
       "std      8425.340005    8419.471653      8425.805478\n",
       "min       500.000000     500.000000         0.000000\n",
       "25%      8000.000000    8000.000000      8000.000000\n",
       "50%     13000.000000   13000.000000     13000.000000\n",
       "75%     20000.000000   20000.000000     20000.000000\n",
       "max     35000.000000   35000.000000     35000.000000"
      ]
     },
     "execution_count": 39,
     "metadata": {},
     "output_type": "execute_result"
    }
   ],
   "source": [
    "dataset.loc[:,['loan_amnt','funded_amnt','funded_amnt_inv']].describe()"
   ]
  },
  {
   "cell_type": "markdown",
   "metadata": {},
   "source": [
    "grade - XYZ corp. assigned loan grade"
   ]
  },
  {
   "cell_type": "code",
   "execution_count": 68,
   "metadata": {},
   "outputs": [
    {
     "data": {
      "text/plain": [
       "B    247998\n",
       "C    236855\n",
       "A    145665\n",
       "D    132802\n",
       "E     66448\n",
       "F     21328\n",
       "G      4873\n",
       "Name: grade, dtype: int64"
      ]
     },
     "execution_count": 68,
     "metadata": {},
     "output_type": "execute_result"
    }
   ],
   "source": [
    "dataset['grade'].value_counts()\n",
    "# majority of people have grade B"
   ]
  },
  {
   "cell_type": "code",
   "execution_count": 43,
   "metadata": {},
   "outputs": [
    {
     "data": {
      "text/plain": [
       "C    13002\n",
       "D    10798\n",
       "B     9717\n",
       "E     6459\n",
       "F     3013\n",
       "A     2664\n",
       "G      814\n",
       "Name: grade, dtype: int64"
      ]
     },
     "execution_count": 43,
     "metadata": {},
     "output_type": "execute_result"
    }
   ],
   "source": [
    "#no. of defaulters based on grades assigned by XYZ corp.\n",
    "dataset.loc[dataset.default_ind==1,'grade'].value_counts()"
   ]
  },
  {
   "cell_type": "markdown",
   "metadata": {},
   "source": [
    "Grade C have max no. of defaulters"
   ]
  },
  {
   "cell_type": "markdown",
   "metadata": {},
   "source": [
    "home_ownership - The home ownership status provided by the borrower during registration. Our values are: RENT, OWN, MORTGAGE, OTHER."
   ]
  },
  {
   "cell_type": "code",
   "execution_count": 70,
   "metadata": {},
   "outputs": [
    {
     "data": {
      "text/plain": [
       "MORTGAGE    429106\n",
       "RENT        342535\n",
       "OWN          84136\n",
       "OTHER          144\n",
       "NONE            45\n",
       "ANY              3\n",
       "Name: home_ownership, dtype: int64"
      ]
     },
     "execution_count": 70,
     "metadata": {},
     "output_type": "execute_result"
    }
   ],
   "source": [
    "dataset['home_ownership'].value_counts()"
   ]
  },
  {
   "cell_type": "code",
   "execution_count": 73,
   "metadata": {},
   "outputs": [
    {
     "data": {
      "text/plain": [
       "<matplotlib.axes._subplots.AxesSubplot at 0xbfacc3b470>"
      ]
     },
     "execution_count": 73,
     "metadata": {},
     "output_type": "execute_result"
    },
    {
     "data": {
      "image/png": "[encoded data removed]",
      "text/plain": [
       "<Figure size 432x288 with 1 Axes>"
      ]
     },
     "metadata": {
      "needs_background": "light"
     },
     "output_type": "display_data"
    }
   ],
   "source": [
    "# Defaulters on the basis of home_ownershi\n",
    "sb.countplot(x='home_ownership',data=dataset[(dataset['default_ind']==1 )])"
   ]
  },
  {
   "cell_type": "markdown",
   "metadata": {},
   "source": [
    "1. Majority of the defaulters are rentees\n",
    "2. Around 4000 people with their own houses haven't repayed the loan yet i.e are defaulters"
   ]
  },
  {
   "cell_type": "code",
   "execution_count": 75,
   "metadata": {},
   "outputs": [
    {
     "data": {
      "text/plain": [
       "f    442555\n",
       "w    413414\n",
       "Name: initial_list_status, dtype: int64"
      ]
     },
     "execution_count": 75,
     "metadata": {},
     "output_type": "execute_result"
    }
   ],
   "source": [
    "dataset['initial_list_status'].value_counts()"
   ]
  },
  {
   "cell_type": "code",
   "execution_count": 88,
   "metadata": {},
   "outputs": [
    {
     "data": {
      "text/plain": [
       "0.0    482665\n",
       "1.0    232983\n",
       "2.0     90479\n",
       "3.0     35902\n",
       "4.0      9589\n",
       "5.0      3359\n",
       "6.0       922\n",
       "7.0        48\n",
       "8.0        22\n",
       "Name: inq_last_6mths, dtype: int64"
      ]
     },
     "execution_count": 88,
     "metadata": {},
     "output_type": "execute_result"
    }
   ],
   "source": [
    "dataset['inq_last_6mths'].value_counts()"
   ]
  },
  {
   "cell_type": "markdown",
   "metadata": {},
   "source": [
    "installment - The monthly payment owed by the borrower if the loan originates."
   ]
  },
  {
   "cell_type": "code",
   "execution_count": 5,
   "metadata": {},
   "outputs": [
    {
     "data": {
      "text/plain": [
       "441.07321884347874"
      ]
     },
     "execution_count": 5,
     "metadata": {},
     "output_type": "execute_result"
    }
   ],
   "source": [
    "dataset.loc[dataset.default_ind==1,'installment'].mean()"
   ]
  },
  {
   "cell_type": "code",
   "execution_count": 6,
   "metadata": {},
   "outputs": [
    {
     "data": {
      "text/plain": [
       "435.9605249278156"
      ]
     },
     "execution_count": 6,
     "metadata": {},
     "output_type": "execute_result"
    }
   ],
   "source": [
    "dataset.loc[dataset.default_ind==0,'installment'].mean()"
   ]
  },
  {
   "cell_type": "markdown",
   "metadata": {},
   "source": [
    "Average installment is same for both defaulters and non-defaulters "
   ]
  },
  {
   "cell_type": "markdown",
   "metadata": {},
   "source": [
    "int_rate - Interest Rate on the loan"
   ]
  },
  {
   "cell_type": "code",
   "execution_count": 87,
   "metadata": {},
   "outputs": [
    {
     "data": {
      "text/plain": [
       "count    855969.000000\n",
       "mean         13.192320\n",
       "std           4.368365\n",
       "min           5.320000\n",
       "25%           9.990000\n",
       "50%          12.990000\n",
       "75%          15.990000\n",
       "max          28.990000\n",
       "Name: int_rate, dtype: float64"
      ]
     },
     "execution_count": 87,
     "metadata": {},
     "output_type": "execute_result"
    }
   ],
   "source": [
    "dataset['int_rate'].describe()"
   ]
  },
  {
   "cell_type": "code",
   "execution_count": 24,
   "metadata": {},
   "outputs": [
    {
     "data": {
      "text/plain": [
       "<matplotlib.axes._subplots.AxesSubplot at 0x2ca251ecf8>"
      ]
     },
     "execution_count": 24,
     "metadata": {},
     "output_type": "execute_result"
    },
    {
     "data": {
      "image/png": "[encoded data removed]",
      "text/plain": [
       "<Figure size 1008x288 with 1 Axes>"
      ]
     },
     "metadata": {
      "needs_background": "light"
     },
     "output_type": "display_data"
    }
   ],
   "source": [
    "#Loan issued per year\n",
    "plt.figure(figsize=(14,4))\n",
    "dataset['issue_d'].dt.year.value_counts().sort_index().plot.bar()"
   ]
  },
  {
   "cell_type": "markdown",
   "metadata": {},
   "source": [
    "As per the data we have we see that loans are increasing per year with maximum no. of loans issued in 2015"
   ]
  },
  {
   "cell_type": "code",
   "execution_count": 28,
   "metadata": {},
   "outputs": [
    {
     "data": {
      "text/plain": [
       "count    855969.000000\n",
       "mean      14745.571335\n",
       "std        8425.340005\n",
       "min         500.000000\n",
       "25%        8000.000000\n",
       "50%       13000.000000\n",
       "75%       20000.000000\n",
       "max       35000.000000\n",
       "Name: loan_amnt, dtype: float64"
      ]
     },
     "execution_count": 28,
     "metadata": {},
     "output_type": "execute_result"
    }
   ],
   "source": [
    "#Undertanding the distribution of loan amount\n",
    "dataset['loan_amnt'].describe()"
   ]
  },
  {
   "cell_type": "code",
   "execution_count": 33,
   "metadata": {},
   "outputs": [
    {
     "data": {
      "text/plain": [
       "1.0    855969\n",
       "Name: policy_code, dtype: int64"
      ]
     },
     "execution_count": 33,
     "metadata": {},
     "output_type": "execute_result"
    }
   ],
   "source": [
    "dataset['policy_code'].value_counts()"
   ]
  },
  {
   "cell_type": "code",
   "execution_count": 35,
   "metadata": {},
   "outputs": [
    {
     "data": {
      "text/plain": [
       "0.0     725455\n",
       "1.0     108920\n",
       "2.0      14250\n",
       "3.0       4305\n",
       "4.0       1496\n",
       "5.0        728\n",
       "6.0        366\n",
       "7.0        167\n",
       "8.0        110\n",
       "9.0         46\n",
       "10.0        41\n",
       "11.0        21\n",
       "12.0        14\n",
       "13.0        12\n",
       "15.0         6\n",
       "18.0         5\n",
       "16.0         5\n",
       "21.0         4\n",
       "17.0         3\n",
       "14.0         2\n",
       "19.0         2\n",
       "49.0         2\n",
       "40.0         1\n",
       "26.0         1\n",
       "63.0         1\n",
       "22.0         1\n",
       "28.0         1\n",
       "86.0         1\n",
       "34.0         1\n",
       "23.0         1\n",
       "54.0         1\n",
       "Name: pub_rec, dtype: int64"
      ]
     },
     "execution_count": 35,
     "metadata": {},
     "output_type": "execute_result"
    }
   ],
   "source": [
    "dataset['pub_rec'].value_counts()"
   ]
  },
  {
   "cell_type": "markdown",
   "metadata": {},
   "source": [
    "purpose - A category provided by the borrower for the loan request. "
   ]
  },
  {
   "cell_type": "code",
   "execution_count": 40,
   "metadata": {},
   "outputs": [
    {
     "data": {
      "text/plain": [
       "<matplotlib.axes._subplots.AxesSubplot at 0x2ca4196588>"
      ]
     },
     "execution_count": 40,
     "metadata": {},
     "output_type": "execute_result"
    },
    {
     "data": {
      "image/png": "[encoded data removed]",
      "text/plain": [
       "<Figure size 720x360 with 1 Axes>"
      ]
     },
     "metadata": {
      "needs_background": "light"
     },
     "output_type": "display_data"
    }
   ],
   "source": [
    "dataset.purpose.value_counts(ascending=False).plot.bar(figsize=(10,5))"
   ]
  },
  {
   "cell_type": "markdown",
   "metadata": {},
   "source": [
    "Mostly the loan was issued for debt_consolidation"
   ]
  },
  {
   "cell_type": "code",
   "execution_count": 45,
   "metadata": {},
   "outputs": [
    {
     "data": {
      "text/plain": [
       "debt_consolidation    505392\n",
       "credit_card           200144\n",
       "home_improvement       49956\n",
       "other                  40949\n",
       "major_purchase         16587\n",
       "small_business          9785\n",
       "car                     8593\n",
       "medical                 8193\n",
       "moving                  5160\n",
       "vacation                4542\n",
       "house                   3513\n",
       "wedding                 2280\n",
       "renewable_energy         549\n",
       "educational              326\n",
       "Name: purpose, dtype: int64"
      ]
     },
     "execution_count": 45,
     "metadata": {},
     "output_type": "execute_result"
    }
   ],
   "source": [
    "dataset['purpose'].value_counts()"
   ]
  },
  {
   "cell_type": "code",
   "execution_count": 47,
   "metadata": {},
   "outputs": [
    {
     "data": {
      "text/plain": [
       "n    855964\n",
       "y         5\n",
       "Name: pymnt_plan, dtype: int64"
      ]
     },
     "execution_count": 47,
     "metadata": {},
     "output_type": "execute_result"
    }
   ],
   "source": [
    "dataset['pymnt_plan'].value_counts()"
   ]
  },
  {
   "cell_type": "code",
   "execution_count": 50,
   "metadata": {},
   "outputs": [
    {
     "data": {
      "text/plain": [
       "0.00       831782\n",
       "200.00         10\n",
       "14.28           9\n",
       "11.70           9\n",
       "100.00          8\n",
       "800.00          8\n",
       "10.40           8\n",
       "10.00           8\n",
       "16.50           8\n",
       "11.20           7\n",
       "10.20           7\n",
       "12.00           7\n",
       "10.08           7\n",
       "16.80           7\n",
       "2500.00         6\n",
       "13.50           6\n",
       "11.16           6\n",
       "1200.00         6\n",
       "13.44           6\n",
       "5000.00         6\n",
       "3000.00         6\n",
       "5200.00         6\n",
       "19.20           6\n",
       "10.35           6\n",
       "12.24           6\n",
       "10.66           6\n",
       "10.56           6\n",
       "10.92           6\n",
       "13.20           6\n",
       "16.00           5\n",
       "            ...  \n",
       "1505.34         1\n",
       "645.77          1\n",
       "2259.35         1\n",
       "403.34          1\n",
       "229.06          1\n",
       "4020.69         1\n",
       "4628.03         1\n",
       "251.66          1\n",
       "487.60          1\n",
       "484.40          1\n",
       "1725.62         1\n",
       "377.96          1\n",
       "1508.09         1\n",
       "4639.47         1\n",
       "8.85            1\n",
       "141.40          1\n",
       "1615.39         1\n",
       "2539.88         1\n",
       "1159.18         1\n",
       "4611.03         1\n",
       "918.99          1\n",
       "3675.71         1\n",
       "1504.66         1\n",
       "4626.47         1\n",
       "3651.54         1\n",
       "403.16          1\n",
       "919.24          1\n",
       "2256.15         1\n",
       "1005.64         1\n",
       "317.31          1\n",
       "Name: recoveries, Length: 22627, dtype: int64"
      ]
     },
     "execution_count": 50,
     "metadata": {},
     "output_type": "execute_result"
    }
   ],
   "source": [
    "dataset['recoveries'].value_counts()"
   ]
  },
  {
   "cell_type": "markdown",
   "metadata": {},
   "source": [
    "sub_grade - XYZ assigned assigned loan subgrade"
   ]
  },
  {
   "cell_type": "code",
   "execution_count": 52,
   "metadata": {},
   "outputs": [
    {
     "data": {
      "text/plain": [
       "B3    54958\n",
       "B4    54116\n",
       "C1    51588\n",
       "C2    50457\n",
       "C3    48337\n",
       "B2    47589\n",
       "B5    47333\n",
       "C4    46941\n",
       "B1    44002\n",
       "A5    43957\n",
       "C5    39532\n",
       "D1    34667\n",
       "A4    33991\n",
       "D2    28385\n",
       "D3    25289\n",
       "D4    24253\n",
       "A3    23095\n",
       "A1    22516\n",
       "A2    22106\n",
       "D5    20208\n",
       "E1    17230\n",
       "E2    15994\n",
       "E3    13294\n",
       "E4    11011\n",
       "E5     8919\n",
       "F1     6702\n",
       "F2     4979\n",
       "F3     4099\n",
       "F4     3168\n",
       "F5     2380\n",
       "G1     1698\n",
       "G2     1259\n",
       "G3      877\n",
       "G4      570\n",
       "G5      469\n",
       "Name: sub_grade, dtype: int64"
      ]
     },
     "execution_count": 52,
     "metadata": {},
     "output_type": "execute_result"
    }
   ],
   "source": [
    "dataset['sub_grade'].value_counts()"
   ]
  },
  {
   "cell_type": "code",
   "execution_count": 53,
   "metadata": {},
   "outputs": [
    {
     "data": {
      "text/plain": [
       "<matplotlib.axes._subplots.AxesSubplot at 0x2ca407c780>"
      ]
     },
     "execution_count": 53,
     "metadata": {},
     "output_type": "execute_result"
    },
    {
     "data": {
      "image/png": "[encoded data removed]",
      "text/plain": [
       "<Figure size 720x360 with 1 Axes>"
      ]
     },
     "metadata": {
      "needs_background": "light"
     },
     "output_type": "display_data"
    }
   ],
   "source": [
    "dataset.sub_grade.value_counts(ascending=False).plot.bar(figsize=(10,5))"
   ]
  },
  {
   "cell_type": "markdown",
   "metadata": {},
   "source": [
    "term - The number of payments on the loan. Values are in months and can be either 36 or 60."
   ]
  },
  {
   "cell_type": "code",
   "execution_count": 61,
   "metadata": {},
   "outputs": [
    {
     "data": {
      "text/plain": [
       " 36 months    600221\n",
       " 60 months    255748\n",
       "Name: term, dtype: int64"
      ]
     },
     "execution_count": 61,
     "metadata": {},
     "output_type": "execute_result"
    }
   ],
   "source": [
    "data1=dataset['term'].value_counts()\n",
    "data1"
   ]
  },
  {
   "cell_type": "code",
   "execution_count": 63,
   "metadata": {},
   "outputs": [
    {
     "data": {
      "text/plain": [
       " 36 months    29798\n",
       " 60 months    16669\n",
       "Name: term, dtype: int64"
      ]
     },
     "execution_count": 63,
     "metadata": {},
     "output_type": "execute_result"
    }
   ],
   "source": [
    "data2=dataset.loc[dataset.default_ind==1,'term'].value_counts()\n",
    "data2"
   ]
  },
  {
   "cell_type": "code",
   "execution_count": 71,
   "metadata": {
    "scrolled": true
   },
   "outputs": [
    {
     "data": {
      "text/plain": [
       "<matplotlib.axes._subplots.AxesSubplot at 0x2ca46acac8>"
      ]
     },
     "execution_count": 71,
     "metadata": {},
     "output_type": "execute_result"
    },
    {
     "data": {
      "image/png": "[encoded data removed]",
      "text/plain": [
       "<Figure size 432x288 with 2 Axes>"
      ]
     },
     "metadata": {
      "needs_background": "light"
     },
     "output_type": "display_data"
    }
   ],
   "source": [
    "plt.subplot(2,1,1)\n",
    "sb.countplot(x='term',data=dataset)\n",
    "plt.subplot(2,1,2)\n",
    "sb.countplot(x='term',data=dataset[(dataset.default_ind==1)])"
   ]
  },
  {
   "cell_type": "markdown",
   "metadata": {},
   "source": [
    "title - The loan title provided by the borrower"
   ]
  },
  {
   "cell_type": "code",
   "execution_count": 75,
   "metadata": {},
   "outputs": [
    {
     "data": {
      "text/plain": [
       "Debt consolidation                          398089\n",
       "Credit card refinancing                     159228\n",
       "Home improvement                             38633\n",
       "Other                                        30522\n",
       "Debt Consolidation                           15469\n",
       "Major purchase                               11519\n",
       "Medical expenses                              6408\n",
       "Business                                      6325\n",
       "Car financing                                 5372\n",
       "Consolidation                                 5266\n",
       "debt consolidation                            4718\n",
       "Debt Consolidation Loan                       3744\n",
       "Moving and relocation                         3724\n",
       "Vacation                                      3640\n",
       "Credit Card Consolidation                     2326\n",
       "Home buying                                   2229\n",
       "consolidation                                 2120\n",
       "Personal Loan                                 2057\n",
       "Consolidation Loan                            1743\n",
       "Home Improvement                              1736\n",
       "Credit Card Refinance                         1442\n",
       "Credit Card Payoff                            1364\n",
       "Consolidate                                   1236\n",
       "Personal                                      1141\n",
       "Loan                                          1013\n",
       "Freedom                                        787\n",
       "Credit Card Loan                               776\n",
       "consolidate                                    737\n",
       "personal                                       736\n",
       "personal loan                                  704\n",
       "                                             ...  \n",
       "outofdebit                                       1\n",
       "RE-FI                                            1\n",
       "Pay existing loan                                1\n",
       "jeep                                             1\n",
       "Trying for debt free                             1\n",
       "Graduation Time                                  1\n",
       "Basement Repair/Renovation                       1\n",
       "NB Debt Consolidation                            1\n",
       "Consolidating loans with baby on the way         1\n",
       "Daddy needs a new car                            1\n",
       "Paying off last of credit cards and car!         1\n",
       "80 z28 camaro                                    1\n",
       "SimplyBlessed                                    1\n",
       "Pay off everything                               1\n",
       "Triumph Motorcycle Purchase                      1\n",
       "Pull it Together                                 1\n",
       "Debt_Consol                                      1\n",
       "1964 Imperial Project                            1\n",
       "Time for a Truck.                                1\n",
       "Payoff credit cars                               1\n",
       "criditcard payoff                                1\n",
       "Escape from Chase Bank!                          1\n",
       "Shreding the cards for good                      1\n",
       "Isabella                                         1\n",
       "Creidt card debt cancellation                    1\n",
       "Winter                                           1\n",
       "Global Finance Home                              1\n",
       "mionica                                          1\n",
       "Credit Line Refinance/Consolidation              1\n",
       "First Family Home Re-Build                       1\n",
       "Name: title, Length: 60991, dtype: int64"
      ]
     },
     "execution_count": 75,
     "metadata": {},
     "output_type": "execute_result"
    }
   ],
   "source": [
    "dataset['title'].value_counts()"
   ]
  },
  {
   "cell_type": "markdown",
   "metadata": {},
   "source": [
    "Again title is of no use, leave it for now"
   ]
  },
  {
   "cell_type": "markdown",
   "metadata": {},
   "source": [
    "verification_status - Was the income source verified"
   ]
  },
  {
   "cell_type": "code",
   "execution_count": 92,
   "metadata": {
    "scrolled": true
   },
   "outputs": [
    {
     "data": {
      "text/plain": [
       "<matplotlib.axes._subplots.AxesSubplot at 0x2cd3bf6908>"
      ]
     },
     "execution_count": 92,
     "metadata": {},
     "output_type": "execute_result"
    },
    {
     "data": {
      "image/png": "[encoded data removed]",
      "text/plain": [
       "<Figure size 432x288 with 2 Axes>"
      ]
     },
     "metadata": {
      "needs_background": "light"
     },
     "output_type": "display_data"
    }
   ],
   "source": [
    "plt.subplot(2,1,1)\n",
    "\n",
    "sb.countplot(x = 'verification_status', data = dataset)\n",
    "\n",
    "plt.subplot(2,1,2)\n",
    "\n",
    "sb.countplot(x = 'verification_status', data = dataset[(dataset['default_ind'] == 1)])\n",
    "#Max defaulters are in the verified section"
   ]
  },
  {
   "cell_type": "markdown",
   "metadata": {},
   "source": [
    "# Data Cleaning and Feature Engineering"
   ]
  },
  {
   "cell_type": "code",
   "execution_count": 8,
   "metadata": {},
   "outputs": [
    {
     "data": {
      "text/plain": [
       "id                                  0\n",
       "member_id                           0\n",
       "loan_amnt                           0\n",
       "funded_amnt                         0\n",
       "funded_amnt_inv                     0\n",
       "term                                0\n",
       "int_rate                            0\n",
       "installment                         0\n",
       "grade                               0\n",
       "sub_grade                           0\n",
       "emp_title                       49443\n",
       "emp_length                      43061\n",
       "home_ownership                      0\n",
       "annual_inc                          0\n",
       "verification_status                 0\n",
       "issue_d                             0\n",
       "pymnt_plan                          0\n",
       "desc                           734157\n",
       "purpose                             0\n",
       "title                              33\n",
       "zip_code                            0\n",
       "addr_state                          0\n",
       "dti                                 0\n",
       "delinq_2yrs                         0\n",
       "earliest_cr_line                    0\n",
       "inq_last_6mths                      0\n",
       "mths_since_last_delinq         439812\n",
       "mths_since_last_record         724785\n",
       "open_acc                            0\n",
       "pub_rec                             0\n",
       "                                ...  \n",
       "last_pymnt_d                     8862\n",
       "last_pymnt_amnt                     0\n",
       "next_pymnt_d                   252971\n",
       "last_credit_pull_d                 50\n",
       "collections_12_mths_ex_med         56\n",
       "mths_since_last_major_derog    642830\n",
       "policy_code                         0\n",
       "application_type                    0\n",
       "annual_inc_joint               855527\n",
       "dti_joint                      855529\n",
       "verification_status_joint      855527\n",
       "acc_now_delinq                      0\n",
       "tot_coll_amt                    67313\n",
       "tot_cur_bal                     67313\n",
       "open_acc_6m                    842681\n",
       "open_il_6m                     842681\n",
       "open_il_12m                    842681\n",
       "open_il_24m                    842681\n",
       "mths_since_rcnt_il             843035\n",
       "total_bal_il                   842681\n",
       "il_util                        844360\n",
       "open_rv_12m                    842681\n",
       "open_rv_24m                    842681\n",
       "max_bal_bc                     842681\n",
       "all_util                       842681\n",
       "total_rev_hi_lim                67313\n",
       "inq_fi                         842681\n",
       "total_cu_tl                    842681\n",
       "inq_last_12m                   842681\n",
       "default_ind                         0\n",
       "Length: 73, dtype: int64"
      ]
     },
     "execution_count": 8,
     "metadata": {},
     "output_type": "execute_result"
    }
   ],
   "source": [
    "dataset.isnull().sum()"
   ]
  },
  {
   "cell_type": "markdown",
   "metadata": {},
   "source": [
    "There are many columns with na values that are not worth lets drop them"
   ]
  },
  {
   "cell_type": "code",
   "execution_count": 9,
   "metadata": {},
   "outputs": [],
   "source": [
    "drop_list=['emp_title','desc','title','mths_since_last_delinq','mths_since_last_record','revol_util','last_pymnt_d',\n",
    " 'next_pymnt_d','last_credit_pull_d','annual_inc_joint','dti_joint','verification_status_joint','tot_coll_amt',\n",
    "'tot_cur_bal','open_acc_6m','open_il_6m','open_il_12m','open_il_24m','total_bal_il','il_util','open_rv_12m','open_rv_24m','max_bal_bc',\n",
    " 'all_util','total_rev_hi_lim','inq_fi','total_cu_tl','inq_last_12m','application_type','delinq_2yrs','collections_12_mths_ex_med','collection_recovery_fee','earliest_cr_line','loan_amnt', 'funded_amnt_inv','id','member_id','inq_last_6mths','zip_code','mths_since_rcnt_il', 'mths_since_last_major_derog','acc_now_delinq','total_pymnt', 'total_pymnt_inv', 'total_rec_prncp','policy_code','pub_rec','pymnt_plan','sub_grade','open_acc','out_prncp',\n",
    "       'out_prncp_inv', 'total_rec_int', 'total_rec_late_fee','revol_bal', 'total_acc','issue_d']\n",
    "\n",
    "dataset.drop(drop_list,axis=1,inplace=True)"
   ]
  },
  {
   "cell_type": "code",
   "execution_count": 10,
   "metadata": {},
   "outputs": [
    {
     "data": {
      "text/plain": [
       "Index(['funded_amnt', 'term', 'int_rate', 'installment', 'grade', 'emp_length',\n",
       "       'home_ownership', 'annual_inc', 'verification_status', 'purpose',\n",
       "       'addr_state', 'dti', 'initial_list_status', 'recoveries',\n",
       "       'last_pymnt_amnt', 'default_ind'],\n",
       "      dtype='object')"
      ]
     },
     "execution_count": 10,
     "metadata": {},
     "output_type": "execute_result"
    }
   ],
   "source": [
    "dataset.columns"
   ]
  },
  {
   "cell_type": "code",
   "execution_count": 11,
   "metadata": {},
   "outputs": [
    {
     "data": {
      "text/plain": [
       "(855969, 16)"
      ]
     },
     "execution_count": 11,
     "metadata": {},
     "output_type": "execute_result"
    }
   ],
   "source": [
    "dataset.shape"
   ]
  },
  {
   "cell_type": "code",
   "execution_count": 12,
   "metadata": {},
   "outputs": [
    {
     "data": {
      "text/plain": [
       "MORTGAGE    429106\n",
       "RENT        342535\n",
       "OWN          84136\n",
       "OTHER          144\n",
       "NONE            45\n",
       "ANY              3\n",
       "Name: home_ownership, dtype: int64"
      ]
     },
     "execution_count": 12,
     "metadata": {},
     "output_type": "execute_result"
    }
   ],
   "source": [
    "dataset['home_ownership'].value_counts()"
   ]
  },
  {
   "cell_type": "code",
   "execution_count": 13,
   "metadata": {},
   "outputs": [],
   "source": [
    "#merging other, none and any together\n",
    "dataset['home_ownership']=dataset['home_ownership'].replace(['OTHER','NONE','ANY'],'OTHER')"
   ]
  },
  {
   "cell_type": "code",
   "execution_count": 14,
   "metadata": {},
   "outputs": [
    {
     "data": {
      "text/plain": [
       "MORTGAGE    429106\n",
       "RENT        342535\n",
       "OWN          84136\n",
       "OTHER          192\n",
       "Name: home_ownership, dtype: int64"
      ]
     },
     "execution_count": 14,
     "metadata": {},
     "output_type": "execute_result"
    }
   ],
   "source": [
    "dataset['home_ownership'].value_counts()"
   ]
  },
  {
   "cell_type": "code",
   "execution_count": 18,
   "metadata": {},
   "outputs": [
    {
     "data": {
      "text/plain": [
       "debt_consolidation    505392\n",
       "credit_card           200144\n",
       "others                 59528\n",
       "home_improvement       49956\n",
       "other                  40949\n",
       "Name: purpose, dtype: int64"
      ]
     },
     "execution_count": 18,
     "metadata": {},
     "output_type": "execute_result"
    }
   ],
   "source": [
    "dataset['purpose'].value_counts()"
   ]
  },
  {
   "cell_type": "code",
   "execution_count": 19,
   "metadata": {},
   "outputs": [],
   "source": [
    "dataset['purpose']=dataset['purpose'].replace(['major_purchase','small_business','car','medical','moving','vacation','house','wedding','renewable_energy','educational'],'others')"
   ]
  },
  {
   "cell_type": "code",
   "execution_count": 20,
   "metadata": {},
   "outputs": [
    {
     "data": {
      "text/plain": [
       "debt_consolidation    505392\n",
       "credit_card           200144\n",
       "others                 59528\n",
       "home_improvement       49956\n",
       "other                  40949\n",
       "Name: purpose, dtype: int64"
      ]
     },
     "execution_count": 20,
     "metadata": {},
     "output_type": "execute_result"
    }
   ],
   "source": [
    "dataset['purpose'].value_counts()"
   ]
  },
  {
   "cell_type": "code",
   "execution_count": 21,
   "metadata": {},
   "outputs": [
    {
     "data": {
      "text/plain": [
       "CA    125172\n",
       "NY     71114\n",
       "TX     68708\n",
       "FL     58639\n",
       "IL     34379\n",
       "NJ     32061\n",
       "PA     30250\n",
       "OH     28651\n",
       "GA     28043\n",
       "VA     25234\n",
       "NC     23787\n",
       "MI     22175\n",
       "MD     20209\n",
       "MA     19835\n",
       "AZ     19693\n",
       "WA     18816\n",
       "CO     18211\n",
       "MN     15424\n",
       "MO     13743\n",
       "IN     13348\n",
       "CT     13042\n",
       "TN     12392\n",
       "NV     11972\n",
       "WI     11199\n",
       "AL     10732\n",
       "OR     10562\n",
       "SC     10302\n",
       "LA     10186\n",
       "KY      8299\n",
       "OK      7759\n",
       "KS      7693\n",
       "AR      6399\n",
       "UT      6055\n",
       "NM      4757\n",
       "HI      4380\n",
       "WV      4247\n",
       "NH      4156\n",
       "RI      3753\n",
       "MS      3653\n",
       "MT      2466\n",
       "DE      2402\n",
       "DC      2382\n",
       "AK      2134\n",
       "WY      1974\n",
       "VT      1753\n",
       "SD      1745\n",
       "NE      1124\n",
       "ME       491\n",
       "ND       452\n",
       "ID         9\n",
       "IA         7\n",
       "Name: addr_state, dtype: int64"
      ]
     },
     "execution_count": 21,
     "metadata": {},
     "output_type": "execute_result"
    }
   ],
   "source": [
    "dataset['addr_state'].value_counts()"
   ]
  },
  {
   "cell_type": "code",
   "execution_count": 25,
   "metadata": {},
   "outputs": [
    {
     "data": {
      "text/plain": [
       "17.61"
      ]
     },
     "execution_count": 25,
     "metadata": {},
     "output_type": "execute_result"
    }
   ],
   "source": [
    "dataset['dti'].median()"
   ]
  },
  {
   "cell_type": "markdown",
   "metadata": {},
   "source": [
    "Relace the outliers with median"
   ]
  },
  {
   "cell_type": "code",
   "execution_count": 26,
   "metadata": {},
   "outputs": [],
   "source": [
    "dataset.loc[[454491,455963,462577,466829,498969,508976,509784,517482,521134,540528],'dti'] = 17"
   ]
  },
  {
   "cell_type": "code",
   "execution_count": 27,
   "metadata": {},
   "outputs": [
    {
     "data": {
      "text/plain": [
       "18.095807593499064"
      ]
     },
     "execution_count": 27,
     "metadata": {},
     "output_type": "execute_result"
    }
   ],
   "source": [
    "data=dataset[(dataset.dti>=100)]\n",
    "data['dti']\n",
    "dataset['dti'].mean()"
   ]
  },
  {
   "cell_type": "code",
   "execution_count": 28,
   "metadata": {},
   "outputs": [
    {
     "data": {
      "text/plain": [
       "funded_amnt                0\n",
       "term                       0\n",
       "int_rate                   0\n",
       "installment                0\n",
       "grade                      0\n",
       "emp_length             43061\n",
       "home_ownership             0\n",
       "annual_inc                 0\n",
       "verification_status        0\n",
       "purpose                    0\n",
       "addr_state                 0\n",
       "dti                        0\n",
       "initial_list_status        0\n",
       "recoveries                 0\n",
       "last_pymnt_amnt            0\n",
       "default_ind                0\n",
       "dtype: int64"
      ]
     },
     "execution_count": 28,
     "metadata": {},
     "output_type": "execute_result"
    }
   ],
   "source": [
    "dataset.isnull().sum()"
   ]
  },
  {
   "cell_type": "code",
   "execution_count": 29,
   "metadata": {},
   "outputs": [],
   "source": [
    "dataset['emp_length'].fillna(value='10+ years',inplace=True)"
   ]
  },
  {
   "cell_type": "markdown",
   "metadata": {},
   "source": [
    "# Data Preprocessing"
   ]
  },
  {
   "cell_type": "code",
   "execution_count": 30,
   "metadata": {},
   "outputs": [
    {
     "data": {
      "text/plain": [
       "(855969, 16)"
      ]
     },
     "execution_count": 30,
     "metadata": {},
     "output_type": "execute_result"
    }
   ],
   "source": [
    "dataset.shape"
   ]
  },
  {
   "cell_type": "code",
   "execution_count": 31,
   "metadata": {},
   "outputs": [],
   "source": [
    "x=dataset.iloc[:,:-1].values\n",
    "y=dataset.iloc[:,15].values"
   ]
  },
  {
   "cell_type": "code",
   "execution_count": 32,
   "metadata": {},
   "outputs": [],
   "source": [
    "from sklearn.preprocessing import LabelEncoder,OneHotEncoder\n",
    "labelencoder=LabelEncoder()\n",
    "\n",
    "x[:,1]=labelencoder.fit_transform(x[:,1])\n",
    "x[:,4]=labelencoder.fit_transform(x[:,4])\n",
    "x[:,5]=labelencoder.fit_transform(x[:,5])\n",
    "x[:,6]=labelencoder.fit_transform(x[:,6])\n",
    "x[:,8]=labelencoder.fit_transform(x[:,8])\n",
    "x[:,9]=labelencoder.fit_transform(x[:,9])\n",
    "x[:,10]=labelencoder.fit_transform(x[:,10])\n",
    "x[:,12]=labelencoder.fit_transform(x[:,12])"
   ]
  },
  {
   "cell_type": "code",
   "execution_count": 35,
   "metadata": {},
   "outputs": [
    {
     "name": "stderr",
     "output_type": "stream",
     "text": [
      "H:\\Anaconda_work\\lib\\site-packages\\sklearn\\preprocessing\\_encoders.py:368: FutureWarning: The handling of integer data will change in version 0.22. Currently, the categories are determined based on the range [0, max(values)], while in the future they will be determined based on the unique values.\n",
      "If you want the future behaviour and silence this warning, you can specify \"categories='auto'\".\n",
      "In case you used a LabelEncoder before this OneHotEncoder to convert the categories to integers, then you can now use the OneHotEncoder directly.\n",
      "  warnings.warn(msg, FutureWarning)\n",
      "H:\\Anaconda_work\\lib\\site-packages\\sklearn\\preprocessing\\_encoders.py:390: DeprecationWarning: The 'categorical_features' keyword is deprecated in version 0.20 and will be removed in 0.22. You can use the ColumnTransformer instead.\n",
      "  \"use the ColumnTransformer instead.\", DeprecationWarning)\n"
     ]
    }
   ],
   "source": [
    "onehotencoder=OneHotEncoder(categorical_features=[1,4,5,6,8,9,10])\n",
    "x=onehotencoder.fit_transform(x).toarray()"
   ]
  },
  {
   "cell_type": "code",
   "execution_count": 36,
   "metadata": {},
   "outputs": [
    {
     "data": {
      "text/plain": [
       "(855969, 98)"
      ]
     },
     "execution_count": 36,
     "metadata": {},
     "output_type": "execute_result"
    }
   ],
   "source": [
    "x.shape"
   ]
  },
  {
   "cell_type": "markdown",
   "metadata": {},
   "source": [
    "# Model Building"
   ]
  },
  {
   "cell_type": "code",
   "execution_count": 37,
   "metadata": {},
   "outputs": [],
   "source": [
    "from sklearn.model_selection import train_test_split\n",
    "x_train,x_test,y_train,y_test=train_test_split(x,y,test_size=0.25,random_state=0)"
   ]
  },
  {
   "cell_type": "markdown",
   "metadata": {},
   "source": [
    "Its a classification problem so applying GradientBoostingClassifier"
   ]
  },
  {
   "cell_type": "code",
   "execution_count": 38,
   "metadata": {},
   "outputs": [
    {
     "data": {
      "text/plain": [
       "GradientBoostingClassifier(criterion='friedman_mse', init=None,\n",
       "              learning_rate=0.1, loss='deviance', max_depth=3,\n",
       "              max_features=None, max_leaf_nodes=None,\n",
       "              min_impurity_decrease=0.0, min_impurity_split=None,\n",
       "              min_samples_leaf=1, min_samples_split=2,\n",
       "              min_weight_fraction_leaf=0.0, n_estimators=100,\n",
       "              n_iter_no_change=None, presort='auto', random_state=None,\n",
       "              subsample=1.0, tol=0.0001, validation_fraction=0.1,\n",
       "              verbose=0, warm_start=False)"
      ]
     },
     "execution_count": 38,
     "metadata": {},
     "output_type": "execute_result"
    }
   ],
   "source": [
    "from sklearn.ensemble import GradientBoostingClassifier\n",
    "classifier=GradientBoostingClassifier()\n",
    "classifier.fit(x_train,y_train)"
   ]
  },
  {
   "cell_type": "code",
   "execution_count": 44,
   "metadata": {},
   "outputs": [],
   "source": [
    "y_pred=classifier.predict(x_test)"
   ]
  },
  {
   "cell_type": "code",
   "execution_count": 45,
   "metadata": {},
   "outputs": [
    {
     "data": {
      "text/plain": [
       "0.9741206488062694"
      ]
     },
     "execution_count": 45,
     "metadata": {},
     "output_type": "execute_result"
    }
   ],
   "source": [
    "from sklearn.metrics import accuracy_score\n",
    "accuracy_score(y_test,y_pred)"
   ]
  },
  {
   "cell_type": "markdown",
   "metadata": {},
   "source": [
    "# Cross validation"
   ]
  },
  {
   "cell_type": "code",
   "execution_count": 46,
   "metadata": {},
   "outputs": [
    {
     "name": "stdout",
     "output_type": "stream",
     "text": [
      "              precision    recall  f1-score   support\n",
      "\n",
      "           0       0.97      1.00      0.99    202450\n",
      "           1       1.00      0.52      0.68     11543\n",
      "\n",
      "   micro avg       0.97      0.97      0.97    213993\n",
      "   macro avg       0.99      0.76      0.84    213993\n",
      "weighted avg       0.97      0.97      0.97    213993\n",
      "\n"
     ]
    }
   ],
   "source": [
    "from sklearn.metrics import classification_report\n",
    "print(classification_report(y_test,y_pred))"
   ]
  },
  {
   "cell_type": "code",
   "execution_count": 47,
   "metadata": {},
   "outputs": [
    {
     "data": {
      "text/plain": [
       "array([[202448,      2],\n",
       "       [  5536,   6007]], dtype=int64)"
      ]
     },
     "execution_count": 47,
     "metadata": {},
     "output_type": "execute_result"
    }
   ],
   "source": [
    "from sklearn.metrics import confusion_matrix\n",
    "\n",
    "confusion_matrix(y_test,y_pred)"
   ]
  },
  {
   "cell_type": "code",
   "execution_count": null,
   "metadata": {},
   "outputs": [],
   "source": []
  }
 ],
 "metadata": {
  "kernelspec": {
   "display_name": "Python 3",
   "language": "python",
   "name": "python3"
  },
  "language_info": {
   "codemirror_mode": {
    "name": "ipython",
    "version": 3
   },
   "file_extension": ".py",
   "mimetype": "text/x-python",
   "name": "python",
   "nbconvert_exporter": "python",
   "pygments_lexer": "ipython3",
   "version": "3.7.3"
  }
 },
 "nbformat": 4,
 "nbformat_minor": 2
}
